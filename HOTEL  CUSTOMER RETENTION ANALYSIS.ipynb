{
 "cells": [
  {
   "cell_type": "markdown",
   "id": "3417a906",
   "metadata": {},
   "source": [
    "### BY OFURE FORTUNATE\n",
    "                                                       November 2023"
   ]
  },
  {
   "cell_type": "markdown",
   "id": "b9c22f5d",
   "metadata": {},
   "source": [
    "# Analyzing Hotel Booking Data with Python to Solve Guests Retention Problem."
   ]
  },
  {
   "cell_type": "markdown",
   "id": "cc0ef6c0",
   "metadata": {},
   "source": [
    "## Project Overview & Objectives :\n",
    "\n",
    "\n",
    "\n",
    "An elite hotel chain managing 2 hotels(City and Resort Hotels), aims to enhance guests retention by understanding the factors contributing to\n",
    "\n",
    "- booking cancellations, \n",
    "\n",
    "- short stays, and \n",
    "\n",
    "- low customer return rates.\n",
    "\n",
    "As a Data Analyst Consultant for this hotel chain, my task is to analyze the hotel’s booking data and devise strategies that improve guest satisfaction, reduce cancellations, increase the length of stays, and encourage repeat bookings.\n"
   ]
  },
  {
   "cell_type": "markdown",
   "id": "b1958107",
   "metadata": {},
   "source": [
    "## Data Source\n",
    "\n",
    "The dataset was sourced from Kaggle and originally featured in the article \"Hotel Booking Demand Datasets,\" authored by Nuno Antonio, Ana Almeida, and Luis Nunes for Data in Brief, Volume 22, February 2019. \n",
    "It originally had 36 columns and 119,390 booking observations for both a City Hotel and a Resort Hotel.\n",
    "\n",
    "The dataset includes a range of information, such as guests’ personal details (names, email, \n",
    "phone-numbers, country, payment information), relevant dates like arrival & reservation status dates, and booking specifics like the number of nights spent, meal, reserved room type, deposit type, and required car parking spaces. There are also essential details such as hotel, whether the customer canceled, lead time, market segment, distribution channel, customer type, ADR (average daily rate), days in the waiting list, previous cancellations, and whether they are repeated guests.\n",
    "\n",
    "I conducted data cleaning on the dataset to allow for seamless and accurate analysis. \n",
    "\n",
    "(**Refer to \"HOTEL BOOKING DATA CLEANING\" file for the process.**)"
   ]
  },
  {
   "cell_type": "code",
   "execution_count": 140,
   "id": "8419572b",
   "metadata": {},
   "outputs": [],
   "source": [
    "#Importing relevant libraries and the dataset\n",
    "\n",
    "import pandas as pd\n",
    "import numpy as np\n",
    "import matplotlib.pyplot as plt"
   ]
  },
  {
   "cell_type": "code",
   "execution_count": 141,
   "id": "cd195bcd",
   "metadata": {},
   "outputs": [],
   "source": [
    "df = pd.read_csv(\"C:\\\\Users\\\\840 g5\\\\Downloads\\\\hotel_data.csv\")"
   ]
  },
  {
   "cell_type": "markdown",
   "id": "eb6f034c",
   "metadata": {},
   "source": [
    "## **Preliminary Exploratory Data Analysis & DataSet Transformation**\n",
    "\n"
   ]
  },
  {
   "cell_type": "code",
   "execution_count": 142,
   "id": "9a3a1eec",
   "metadata": {},
   "outputs": [
    {
     "name": "stdout",
     "output_type": "stream",
     "text": [
      "<class 'pandas.core.frame.DataFrame'>\n",
      "RangeIndex: 118898 entries, 0 to 118897\n",
      "Data columns (total 35 columns):\n",
      " #   Column                          Non-Null Count   Dtype \n",
      "---  ------                          --------------   ----- \n",
      " 0   Unnamed: 0                      118898 non-null  int64 \n",
      " 1   name                            118898 non-null  object\n",
      " 2   email                           118898 non-null  object\n",
      " 3   phone-number                    118898 non-null  object\n",
      " 4   credit_card                     118898 non-null  object\n",
      " 5   arrival_date                    118898 non-null  object\n",
      " 6   reservation_status_date         118898 non-null  object\n",
      " 7   reservation_status              118898 non-null  object\n",
      " 8   hotel                           118898 non-null  object\n",
      " 9   is_canceled                     118898 non-null  bool  \n",
      " 10  lead_time                       118898 non-null  int64 \n",
      " 11  arrival_date_year               118898 non-null  int64 \n",
      " 12  arrival_date_month              118898 non-null  object\n",
      " 13  arrival_date_week_number        118898 non-null  int64 \n",
      " 14  arrival_date_day_of_month       118898 non-null  int64 \n",
      " 15  num_of_weekend_nights           118898 non-null  int64 \n",
      " 16  num_of_week_nights              118898 non-null  int64 \n",
      " 17  adults                          118898 non-null  int64 \n",
      " 18  children                        118898 non-null  int64 \n",
      " 19  babies                          118898 non-null  int64 \n",
      " 20  meal                            118898 non-null  object\n",
      " 21  country                         118898 non-null  object\n",
      " 22  market_segment                  118898 non-null  object\n",
      " 23  distribution_channel            118898 non-null  object\n",
      " 24  is_repeated_guest               118898 non-null  bool  \n",
      " 25  previous_cancellations          118898 non-null  int64 \n",
      " 26  previous_bookings_not_canceled  118898 non-null  int64 \n",
      " 27  reserved_room_type              118898 non-null  object\n",
      " 28  assigned_room_type              118898 non-null  object\n",
      " 29  booking_changes                 118898 non-null  int64 \n",
      " 30  deposit_type                    118898 non-null  object\n",
      " 31  days_in_waiting_list            118898 non-null  int64 \n",
      " 32  customer_type                   118898 non-null  object\n",
      " 33  average_daily_rate              118898 non-null  object\n",
      " 34  required_car_parking_spaces     118898 non-null  int64 \n",
      "dtypes: bool(2), int64(15), object(18)\n",
      "memory usage: 30.2+ MB\n"
     ]
    }
   ],
   "source": [
    "df.info()"
   ]
  },
  {
   "cell_type": "code",
   "execution_count": 143,
   "id": "a583395f",
   "metadata": {},
   "outputs": [
    {
     "data": {
      "text/html": [
       "<div>\n",
       "<style scoped>\n",
       "    .dataframe tbody tr th:only-of-type {\n",
       "        vertical-align: middle;\n",
       "    }\n",
       "\n",
       "    .dataframe tbody tr th {\n",
       "        vertical-align: top;\n",
       "    }\n",
       "\n",
       "    .dataframe thead th {\n",
       "        text-align: right;\n",
       "    }\n",
       "</style>\n",
       "<table border=\"1\" class=\"dataframe\">\n",
       "  <thead>\n",
       "    <tr style=\"text-align: right;\">\n",
       "      <th></th>\n",
       "      <th>Unnamed: 0</th>\n",
       "      <th>lead_time</th>\n",
       "      <th>arrival_date_year</th>\n",
       "      <th>arrival_date_week_number</th>\n",
       "      <th>arrival_date_day_of_month</th>\n",
       "      <th>num_of_weekend_nights</th>\n",
       "      <th>num_of_week_nights</th>\n",
       "      <th>adults</th>\n",
       "      <th>children</th>\n",
       "      <th>babies</th>\n",
       "      <th>previous_cancellations</th>\n",
       "      <th>previous_bookings_not_canceled</th>\n",
       "      <th>booking_changes</th>\n",
       "      <th>days_in_waiting_list</th>\n",
       "      <th>required_car_parking_spaces</th>\n",
       "    </tr>\n",
       "  </thead>\n",
       "  <tbody>\n",
       "    <tr>\n",
       "      <th>count</th>\n",
       "      <td>118898.000000</td>\n",
       "      <td>118898.000000</td>\n",
       "      <td>118898.000000</td>\n",
       "      <td>118898.000000</td>\n",
       "      <td>118898.000000</td>\n",
       "      <td>118898.000000</td>\n",
       "      <td>118898.000000</td>\n",
       "      <td>118898.000000</td>\n",
       "      <td>118898.000000</td>\n",
       "      <td>118898.000000</td>\n",
       "      <td>118898.000000</td>\n",
       "      <td>118898.000000</td>\n",
       "      <td>118898.000000</td>\n",
       "      <td>118898.000000</td>\n",
       "      <td>118898.000000</td>\n",
       "    </tr>\n",
       "    <tr>\n",
       "      <th>mean</th>\n",
       "      <td>59872.784496</td>\n",
       "      <td>104.311435</td>\n",
       "      <td>2016.157656</td>\n",
       "      <td>27.166555</td>\n",
       "      <td>15.800880</td>\n",
       "      <td>0.928897</td>\n",
       "      <td>2.502145</td>\n",
       "      <td>1.858391</td>\n",
       "      <td>0.104207</td>\n",
       "      <td>0.007948</td>\n",
       "      <td>0.087142</td>\n",
       "      <td>0.131634</td>\n",
       "      <td>0.221181</td>\n",
       "      <td>2.330754</td>\n",
       "      <td>0.061885</td>\n",
       "    </tr>\n",
       "    <tr>\n",
       "      <th>std</th>\n",
       "      <td>34418.708956</td>\n",
       "      <td>106.903309</td>\n",
       "      <td>0.707459</td>\n",
       "      <td>13.589971</td>\n",
       "      <td>8.780324</td>\n",
       "      <td>0.996216</td>\n",
       "      <td>1.900168</td>\n",
       "      <td>0.578576</td>\n",
       "      <td>0.399172</td>\n",
       "      <td>0.097380</td>\n",
       "      <td>0.845869</td>\n",
       "      <td>1.484672</td>\n",
       "      <td>0.652785</td>\n",
       "      <td>17.630452</td>\n",
       "      <td>0.244172</td>\n",
       "    </tr>\n",
       "    <tr>\n",
       "      <th>min</th>\n",
       "      <td>0.000000</td>\n",
       "      <td>0.000000</td>\n",
       "      <td>2015.000000</td>\n",
       "      <td>1.000000</td>\n",
       "      <td>1.000000</td>\n",
       "      <td>0.000000</td>\n",
       "      <td>0.000000</td>\n",
       "      <td>0.000000</td>\n",
       "      <td>0.000000</td>\n",
       "      <td>0.000000</td>\n",
       "      <td>0.000000</td>\n",
       "      <td>0.000000</td>\n",
       "      <td>0.000000</td>\n",
       "      <td>0.000000</td>\n",
       "      <td>0.000000</td>\n",
       "    </tr>\n",
       "    <tr>\n",
       "      <th>25%</th>\n",
       "      <td>30185.250000</td>\n",
       "      <td>18.000000</td>\n",
       "      <td>2016.000000</td>\n",
       "      <td>16.000000</td>\n",
       "      <td>8.000000</td>\n",
       "      <td>0.000000</td>\n",
       "      <td>1.000000</td>\n",
       "      <td>2.000000</td>\n",
       "      <td>0.000000</td>\n",
       "      <td>0.000000</td>\n",
       "      <td>0.000000</td>\n",
       "      <td>0.000000</td>\n",
       "      <td>0.000000</td>\n",
       "      <td>0.000000</td>\n",
       "      <td>0.000000</td>\n",
       "    </tr>\n",
       "    <tr>\n",
       "      <th>50%</th>\n",
       "      <td>59930.500000</td>\n",
       "      <td>69.000000</td>\n",
       "      <td>2016.000000</td>\n",
       "      <td>28.000000</td>\n",
       "      <td>16.000000</td>\n",
       "      <td>1.000000</td>\n",
       "      <td>2.000000</td>\n",
       "      <td>2.000000</td>\n",
       "      <td>0.000000</td>\n",
       "      <td>0.000000</td>\n",
       "      <td>0.000000</td>\n",
       "      <td>0.000000</td>\n",
       "      <td>0.000000</td>\n",
       "      <td>0.000000</td>\n",
       "      <td>0.000000</td>\n",
       "    </tr>\n",
       "    <tr>\n",
       "      <th>75%</th>\n",
       "      <td>89663.750000</td>\n",
       "      <td>161.000000</td>\n",
       "      <td>2017.000000</td>\n",
       "      <td>38.000000</td>\n",
       "      <td>23.000000</td>\n",
       "      <td>2.000000</td>\n",
       "      <td>3.000000</td>\n",
       "      <td>2.000000</td>\n",
       "      <td>0.000000</td>\n",
       "      <td>0.000000</td>\n",
       "      <td>0.000000</td>\n",
       "      <td>0.000000</td>\n",
       "      <td>0.000000</td>\n",
       "      <td>0.000000</td>\n",
       "      <td>0.000000</td>\n",
       "    </tr>\n",
       "    <tr>\n",
       "      <th>max</th>\n",
       "      <td>119389.000000</td>\n",
       "      <td>737.000000</td>\n",
       "      <td>2017.000000</td>\n",
       "      <td>53.000000</td>\n",
       "      <td>31.000000</td>\n",
       "      <td>16.000000</td>\n",
       "      <td>41.000000</td>\n",
       "      <td>55.000000</td>\n",
       "      <td>10.000000</td>\n",
       "      <td>10.000000</td>\n",
       "      <td>26.000000</td>\n",
       "      <td>72.000000</td>\n",
       "      <td>21.000000</td>\n",
       "      <td>391.000000</td>\n",
       "      <td>8.000000</td>\n",
       "    </tr>\n",
       "  </tbody>\n",
       "</table>\n",
       "</div>"
      ],
      "text/plain": [
       "          Unnamed: 0      lead_time  arrival_date_year  \\\n",
       "count  118898.000000  118898.000000      118898.000000   \n",
       "mean    59872.784496     104.311435        2016.157656   \n",
       "std     34418.708956     106.903309           0.707459   \n",
       "min         0.000000       0.000000        2015.000000   \n",
       "25%     30185.250000      18.000000        2016.000000   \n",
       "50%     59930.500000      69.000000        2016.000000   \n",
       "75%     89663.750000     161.000000        2017.000000   \n",
       "max    119389.000000     737.000000        2017.000000   \n",
       "\n",
       "       arrival_date_week_number  arrival_date_day_of_month  \\\n",
       "count             118898.000000              118898.000000   \n",
       "mean                  27.166555                  15.800880   \n",
       "std                   13.589971                   8.780324   \n",
       "min                    1.000000                   1.000000   \n",
       "25%                   16.000000                   8.000000   \n",
       "50%                   28.000000                  16.000000   \n",
       "75%                   38.000000                  23.000000   \n",
       "max                   53.000000                  31.000000   \n",
       "\n",
       "       num_of_weekend_nights  num_of_week_nights         adults  \\\n",
       "count          118898.000000       118898.000000  118898.000000   \n",
       "mean                0.928897            2.502145       1.858391   \n",
       "std                 0.996216            1.900168       0.578576   \n",
       "min                 0.000000            0.000000       0.000000   \n",
       "25%                 0.000000            1.000000       2.000000   \n",
       "50%                 1.000000            2.000000       2.000000   \n",
       "75%                 2.000000            3.000000       2.000000   \n",
       "max                16.000000           41.000000      55.000000   \n",
       "\n",
       "            children         babies  previous_cancellations  \\\n",
       "count  118898.000000  118898.000000           118898.000000   \n",
       "mean        0.104207       0.007948                0.087142   \n",
       "std         0.399172       0.097380                0.845869   \n",
       "min         0.000000       0.000000                0.000000   \n",
       "25%         0.000000       0.000000                0.000000   \n",
       "50%         0.000000       0.000000                0.000000   \n",
       "75%         0.000000       0.000000                0.000000   \n",
       "max        10.000000      10.000000               26.000000   \n",
       "\n",
       "       previous_bookings_not_canceled  booking_changes  days_in_waiting_list  \\\n",
       "count                   118898.000000    118898.000000         118898.000000   \n",
       "mean                         0.131634         0.221181              2.330754   \n",
       "std                          1.484672         0.652785             17.630452   \n",
       "min                          0.000000         0.000000              0.000000   \n",
       "25%                          0.000000         0.000000              0.000000   \n",
       "50%                          0.000000         0.000000              0.000000   \n",
       "75%                          0.000000         0.000000              0.000000   \n",
       "max                         72.000000        21.000000            391.000000   \n",
       "\n",
       "       required_car_parking_spaces  \n",
       "count                118898.000000  \n",
       "mean                      0.061885  \n",
       "std                       0.244172  \n",
       "min                       0.000000  \n",
       "25%                       0.000000  \n",
       "50%                       0.000000  \n",
       "75%                       0.000000  \n",
       "max                       8.000000  "
      ]
     },
     "execution_count": 143,
     "metadata": {},
     "output_type": "execute_result"
    }
   ],
   "source": [
    "df.describe()"
   ]
  },
  {
   "cell_type": "code",
   "execution_count": 144,
   "id": "b9623cee",
   "metadata": {},
   "outputs": [
    {
     "data": {
      "text/html": [
       "<div>\n",
       "<style scoped>\n",
       "    .dataframe tbody tr th:only-of-type {\n",
       "        vertical-align: middle;\n",
       "    }\n",
       "\n",
       "    .dataframe tbody tr th {\n",
       "        vertical-align: top;\n",
       "    }\n",
       "\n",
       "    .dataframe thead th {\n",
       "        text-align: right;\n",
       "    }\n",
       "</style>\n",
       "<table border=\"1\" class=\"dataframe\">\n",
       "  <thead>\n",
       "    <tr style=\"text-align: right;\">\n",
       "      <th></th>\n",
       "      <th>Unnamed: 0</th>\n",
       "      <th>name</th>\n",
       "      <th>email</th>\n",
       "      <th>phone-number</th>\n",
       "      <th>credit_card</th>\n",
       "      <th>arrival_date</th>\n",
       "      <th>reservation_status_date</th>\n",
       "      <th>reservation_status</th>\n",
       "      <th>hotel</th>\n",
       "      <th>is_canceled</th>\n",
       "      <th>...</th>\n",
       "      <th>previous_cancellations</th>\n",
       "      <th>previous_bookings_not_canceled</th>\n",
       "      <th>reserved_room_type</th>\n",
       "      <th>assigned_room_type</th>\n",
       "      <th>booking_changes</th>\n",
       "      <th>deposit_type</th>\n",
       "      <th>days_in_waiting_list</th>\n",
       "      <th>customer_type</th>\n",
       "      <th>average_daily_rate</th>\n",
       "      <th>required_car_parking_spaces</th>\n",
       "    </tr>\n",
       "  </thead>\n",
       "  <tbody>\n",
       "    <tr>\n",
       "      <th>0</th>\n",
       "      <td>0</td>\n",
       "      <td>Ernest Barnes</td>\n",
       "      <td>Ernest.Barnes31@outlook.com</td>\n",
       "      <td>669-792-1661</td>\n",
       "      <td>************4322</td>\n",
       "      <td>2015-07-01</td>\n",
       "      <td>2015-07-01</td>\n",
       "      <td>Check-Out</td>\n",
       "      <td>Resort Hotel</td>\n",
       "      <td>False</td>\n",
       "      <td>...</td>\n",
       "      <td>0</td>\n",
       "      <td>0</td>\n",
       "      <td>C</td>\n",
       "      <td>C</td>\n",
       "      <td>3</td>\n",
       "      <td>No Deposit</td>\n",
       "      <td>0</td>\n",
       "      <td>Transient</td>\n",
       "      <td>$0.0</td>\n",
       "      <td>0</td>\n",
       "    </tr>\n",
       "    <tr>\n",
       "      <th>1</th>\n",
       "      <td>1</td>\n",
       "      <td>Andrea Baker</td>\n",
       "      <td>Andrea_Baker94@aol.com</td>\n",
       "      <td>858-637-6955</td>\n",
       "      <td>************9157</td>\n",
       "      <td>2015-07-01</td>\n",
       "      <td>2015-07-01</td>\n",
       "      <td>Check-Out</td>\n",
       "      <td>Resort Hotel</td>\n",
       "      <td>False</td>\n",
       "      <td>...</td>\n",
       "      <td>0</td>\n",
       "      <td>0</td>\n",
       "      <td>C</td>\n",
       "      <td>C</td>\n",
       "      <td>4</td>\n",
       "      <td>No Deposit</td>\n",
       "      <td>0</td>\n",
       "      <td>Transient</td>\n",
       "      <td>$0.0</td>\n",
       "      <td>0</td>\n",
       "    </tr>\n",
       "    <tr>\n",
       "      <th>2</th>\n",
       "      <td>2</td>\n",
       "      <td>Rebecca Parker</td>\n",
       "      <td>Rebecca_Parker@comcast.net</td>\n",
       "      <td>652-885-2745</td>\n",
       "      <td>************3734</td>\n",
       "      <td>2015-07-01</td>\n",
       "      <td>2015-07-02</td>\n",
       "      <td>Check-Out</td>\n",
       "      <td>Resort Hotel</td>\n",
       "      <td>False</td>\n",
       "      <td>...</td>\n",
       "      <td>0</td>\n",
       "      <td>0</td>\n",
       "      <td>A</td>\n",
       "      <td>C</td>\n",
       "      <td>0</td>\n",
       "      <td>No Deposit</td>\n",
       "      <td>0</td>\n",
       "      <td>Transient</td>\n",
       "      <td>$75.0</td>\n",
       "      <td>0</td>\n",
       "    </tr>\n",
       "    <tr>\n",
       "      <th>3</th>\n",
       "      <td>3</td>\n",
       "      <td>Laura Murray</td>\n",
       "      <td>Laura_M@gmail.com</td>\n",
       "      <td>364-656-8427</td>\n",
       "      <td>************5677</td>\n",
       "      <td>2015-07-01</td>\n",
       "      <td>2015-07-02</td>\n",
       "      <td>Check-Out</td>\n",
       "      <td>Resort Hotel</td>\n",
       "      <td>False</td>\n",
       "      <td>...</td>\n",
       "      <td>0</td>\n",
       "      <td>0</td>\n",
       "      <td>A</td>\n",
       "      <td>A</td>\n",
       "      <td>0</td>\n",
       "      <td>No Deposit</td>\n",
       "      <td>0</td>\n",
       "      <td>Transient</td>\n",
       "      <td>$75.0</td>\n",
       "      <td>0</td>\n",
       "    </tr>\n",
       "    <tr>\n",
       "      <th>4</th>\n",
       "      <td>4</td>\n",
       "      <td>Linda Hines</td>\n",
       "      <td>LHines@verizon.com</td>\n",
       "      <td>713-226-5883</td>\n",
       "      <td>************5498</td>\n",
       "      <td>2015-07-01</td>\n",
       "      <td>2015-07-03</td>\n",
       "      <td>Check-Out</td>\n",
       "      <td>Resort Hotel</td>\n",
       "      <td>False</td>\n",
       "      <td>...</td>\n",
       "      <td>0</td>\n",
       "      <td>0</td>\n",
       "      <td>A</td>\n",
       "      <td>A</td>\n",
       "      <td>0</td>\n",
       "      <td>No Deposit</td>\n",
       "      <td>0</td>\n",
       "      <td>Transient</td>\n",
       "      <td>$98.0</td>\n",
       "      <td>0</td>\n",
       "    </tr>\n",
       "    <tr>\n",
       "      <th>...</th>\n",
       "      <td>...</td>\n",
       "      <td>...</td>\n",
       "      <td>...</td>\n",
       "      <td>...</td>\n",
       "      <td>...</td>\n",
       "      <td>...</td>\n",
       "      <td>...</td>\n",
       "      <td>...</td>\n",
       "      <td>...</td>\n",
       "      <td>...</td>\n",
       "      <td>...</td>\n",
       "      <td>...</td>\n",
       "      <td>...</td>\n",
       "      <td>...</td>\n",
       "      <td>...</td>\n",
       "      <td>...</td>\n",
       "      <td>...</td>\n",
       "      <td>...</td>\n",
       "      <td>...</td>\n",
       "      <td>...</td>\n",
       "      <td>...</td>\n",
       "    </tr>\n",
       "    <tr>\n",
       "      <th>118893</th>\n",
       "      <td>119385</td>\n",
       "      <td>Claudia Johnson</td>\n",
       "      <td>Claudia.J@yahoo.com</td>\n",
       "      <td>403-092-5582</td>\n",
       "      <td>************8647</td>\n",
       "      <td>2017-08-30</td>\n",
       "      <td>2017-09-06</td>\n",
       "      <td>Check-Out</td>\n",
       "      <td>City Hotel</td>\n",
       "      <td>False</td>\n",
       "      <td>...</td>\n",
       "      <td>0</td>\n",
       "      <td>0</td>\n",
       "      <td>A</td>\n",
       "      <td>A</td>\n",
       "      <td>0</td>\n",
       "      <td>No Deposit</td>\n",
       "      <td>0</td>\n",
       "      <td>Transient</td>\n",
       "      <td>$96.14</td>\n",
       "      <td>0</td>\n",
       "    </tr>\n",
       "    <tr>\n",
       "      <th>118894</th>\n",
       "      <td>119386</td>\n",
       "      <td>Wesley Aguilar</td>\n",
       "      <td>WAguilar@xfinity.com</td>\n",
       "      <td>238-763-0612</td>\n",
       "      <td>************4333</td>\n",
       "      <td>2017-08-31</td>\n",
       "      <td>2017-09-07</td>\n",
       "      <td>Check-Out</td>\n",
       "      <td>City Hotel</td>\n",
       "      <td>False</td>\n",
       "      <td>...</td>\n",
       "      <td>0</td>\n",
       "      <td>0</td>\n",
       "      <td>E</td>\n",
       "      <td>E</td>\n",
       "      <td>0</td>\n",
       "      <td>No Deposit</td>\n",
       "      <td>0</td>\n",
       "      <td>Transient</td>\n",
       "      <td>$225.43</td>\n",
       "      <td>0</td>\n",
       "    </tr>\n",
       "    <tr>\n",
       "      <th>118895</th>\n",
       "      <td>119387</td>\n",
       "      <td>Mary Morales</td>\n",
       "      <td>Mary_Morales@hotmail.com</td>\n",
       "      <td>395-518-4100</td>\n",
       "      <td>************1821</td>\n",
       "      <td>2017-08-31</td>\n",
       "      <td>2017-09-07</td>\n",
       "      <td>Check-Out</td>\n",
       "      <td>City Hotel</td>\n",
       "      <td>False</td>\n",
       "      <td>...</td>\n",
       "      <td>0</td>\n",
       "      <td>0</td>\n",
       "      <td>D</td>\n",
       "      <td>D</td>\n",
       "      <td>0</td>\n",
       "      <td>No Deposit</td>\n",
       "      <td>0</td>\n",
       "      <td>Transient</td>\n",
       "      <td>$157.71</td>\n",
       "      <td>0</td>\n",
       "    </tr>\n",
       "    <tr>\n",
       "      <th>118896</th>\n",
       "      <td>119388</td>\n",
       "      <td>Caroline Conley MD</td>\n",
       "      <td>MD_Caroline@comcast.net</td>\n",
       "      <td>531-528-1017</td>\n",
       "      <td>************7860</td>\n",
       "      <td>2017-08-31</td>\n",
       "      <td>2017-09-07</td>\n",
       "      <td>Check-Out</td>\n",
       "      <td>City Hotel</td>\n",
       "      <td>False</td>\n",
       "      <td>...</td>\n",
       "      <td>0</td>\n",
       "      <td>0</td>\n",
       "      <td>A</td>\n",
       "      <td>A</td>\n",
       "      <td>0</td>\n",
       "      <td>No Deposit</td>\n",
       "      <td>0</td>\n",
       "      <td>Transient</td>\n",
       "      <td>$104.4</td>\n",
       "      <td>0</td>\n",
       "    </tr>\n",
       "    <tr>\n",
       "      <th>118897</th>\n",
       "      <td>119389</td>\n",
       "      <td>Ariana Michael</td>\n",
       "      <td>Ariana_M@xfinity.com</td>\n",
       "      <td>422-804-6403</td>\n",
       "      <td>************4482</td>\n",
       "      <td>2017-08-29</td>\n",
       "      <td>2017-09-07</td>\n",
       "      <td>Check-Out</td>\n",
       "      <td>City Hotel</td>\n",
       "      <td>False</td>\n",
       "      <td>...</td>\n",
       "      <td>0</td>\n",
       "      <td>0</td>\n",
       "      <td>A</td>\n",
       "      <td>A</td>\n",
       "      <td>0</td>\n",
       "      <td>No Deposit</td>\n",
       "      <td>0</td>\n",
       "      <td>Transient</td>\n",
       "      <td>$151.2</td>\n",
       "      <td>0</td>\n",
       "    </tr>\n",
       "  </tbody>\n",
       "</table>\n",
       "<p>118898 rows × 35 columns</p>\n",
       "</div>"
      ],
      "text/plain": [
       "        Unnamed: 0                name                        email  \\\n",
       "0                0       Ernest Barnes  Ernest.Barnes31@outlook.com   \n",
       "1                1        Andrea Baker       Andrea_Baker94@aol.com   \n",
       "2                2      Rebecca Parker   Rebecca_Parker@comcast.net   \n",
       "3                3        Laura Murray            Laura_M@gmail.com   \n",
       "4                4         Linda Hines           LHines@verizon.com   \n",
       "...            ...                 ...                          ...   \n",
       "118893      119385     Claudia Johnson          Claudia.J@yahoo.com   \n",
       "118894      119386      Wesley Aguilar         WAguilar@xfinity.com   \n",
       "118895      119387        Mary Morales     Mary_Morales@hotmail.com   \n",
       "118896      119388  Caroline Conley MD      MD_Caroline@comcast.net   \n",
       "118897      119389      Ariana Michael         Ariana_M@xfinity.com   \n",
       "\n",
       "        phone-number       credit_card arrival_date reservation_status_date  \\\n",
       "0       669-792-1661  ************4322   2015-07-01              2015-07-01   \n",
       "1       858-637-6955  ************9157   2015-07-01              2015-07-01   \n",
       "2       652-885-2745  ************3734   2015-07-01              2015-07-02   \n",
       "3       364-656-8427  ************5677   2015-07-01              2015-07-02   \n",
       "4       713-226-5883  ************5498   2015-07-01              2015-07-03   \n",
       "...              ...               ...          ...                     ...   \n",
       "118893  403-092-5582  ************8647   2017-08-30              2017-09-06   \n",
       "118894  238-763-0612  ************4333   2017-08-31              2017-09-07   \n",
       "118895  395-518-4100  ************1821   2017-08-31              2017-09-07   \n",
       "118896  531-528-1017  ************7860   2017-08-31              2017-09-07   \n",
       "118897  422-804-6403  ************4482   2017-08-29              2017-09-07   \n",
       "\n",
       "       reservation_status         hotel  is_canceled  ...  \\\n",
       "0               Check-Out  Resort Hotel        False  ...   \n",
       "1               Check-Out  Resort Hotel        False  ...   \n",
       "2               Check-Out  Resort Hotel        False  ...   \n",
       "3               Check-Out  Resort Hotel        False  ...   \n",
       "4               Check-Out  Resort Hotel        False  ...   \n",
       "...                   ...           ...          ...  ...   \n",
       "118893          Check-Out    City Hotel        False  ...   \n",
       "118894          Check-Out    City Hotel        False  ...   \n",
       "118895          Check-Out    City Hotel        False  ...   \n",
       "118896          Check-Out    City Hotel        False  ...   \n",
       "118897          Check-Out    City Hotel        False  ...   \n",
       "\n",
       "        previous_cancellations  previous_bookings_not_canceled  \\\n",
       "0                            0                               0   \n",
       "1                            0                               0   \n",
       "2                            0                               0   \n",
       "3                            0                               0   \n",
       "4                            0                               0   \n",
       "...                        ...                             ...   \n",
       "118893                       0                               0   \n",
       "118894                       0                               0   \n",
       "118895                       0                               0   \n",
       "118896                       0                               0   \n",
       "118897                       0                               0   \n",
       "\n",
       "       reserved_room_type  assigned_room_type  booking_changes  deposit_type  \\\n",
       "0                       C                   C                3    No Deposit   \n",
       "1                       C                   C                4    No Deposit   \n",
       "2                       A                   C                0    No Deposit   \n",
       "3                       A                   A                0    No Deposit   \n",
       "4                       A                   A                0    No Deposit   \n",
       "...                   ...                 ...              ...           ...   \n",
       "118893                  A                   A                0    No Deposit   \n",
       "118894                  E                   E                0    No Deposit   \n",
       "118895                  D                   D                0    No Deposit   \n",
       "118896                  A                   A                0    No Deposit   \n",
       "118897                  A                   A                0    No Deposit   \n",
       "\n",
       "        days_in_waiting_list  customer_type  average_daily_rate  \\\n",
       "0                          0      Transient                $0.0   \n",
       "1                          0      Transient                $0.0   \n",
       "2                          0      Transient               $75.0   \n",
       "3                          0      Transient               $75.0   \n",
       "4                          0      Transient               $98.0   \n",
       "...                      ...            ...                 ...   \n",
       "118893                     0      Transient              $96.14   \n",
       "118894                     0      Transient             $225.43   \n",
       "118895                     0      Transient             $157.71   \n",
       "118896                     0      Transient              $104.4   \n",
       "118897                     0      Transient              $151.2   \n",
       "\n",
       "        required_car_parking_spaces  \n",
       "0                                 0  \n",
       "1                                 0  \n",
       "2                                 0  \n",
       "3                                 0  \n",
       "4                                 0  \n",
       "...                             ...  \n",
       "118893                            0  \n",
       "118894                            0  \n",
       "118895                            0  \n",
       "118896                            0  \n",
       "118897                            0  \n",
       "\n",
       "[118898 rows x 35 columns]"
      ]
     },
     "execution_count": 144,
     "metadata": {},
     "output_type": "execute_result"
    }
   ],
   "source": [
    "df"
   ]
  },
  {
   "cell_type": "code",
   "execution_count": 145,
   "id": "a16add9a",
   "metadata": {},
   "outputs": [
    {
     "data": {
      "text/plain": [
       "Index(['Unnamed: 0', 'name', 'email', 'phone-number', 'credit_card',\n",
       "       'arrival_date', 'reservation_status_date', 'reservation_status',\n",
       "       'hotel', 'is_canceled', 'lead_time', 'arrival_date_year',\n",
       "       'arrival_date_month', 'arrival_date_week_number',\n",
       "       'arrival_date_day_of_month', 'num_of_weekend_nights',\n",
       "       'num_of_week_nights', 'adults', 'children', 'babies', 'meal', 'country',\n",
       "       'market_segment', 'distribution_channel', 'is_repeated_guest',\n",
       "       'previous_cancellations', 'previous_bookings_not_canceled',\n",
       "       'reserved_room_type', 'assigned_room_type', 'booking_changes',\n",
       "       'deposit_type', 'days_in_waiting_list', 'customer_type',\n",
       "       'average_daily_rate', 'required_car_parking_spaces'],\n",
       "      dtype='object')"
      ]
     },
     "execution_count": 145,
     "metadata": {},
     "output_type": "execute_result"
    }
   ],
   "source": [
    "df.columns"
   ]
  },
  {
   "cell_type": "code",
   "execution_count": 146,
   "id": "c2558b40",
   "metadata": {},
   "outputs": [],
   "source": [
    "\n",
    "df['is_canceled'] = df['is_canceled'].apply(lambda x: x == 'True')\n",
    "\n",
    "# Now 'is_canceled' column contains True for 'True' and False for 'False'\n",
    "\n"
   ]
  },
  {
   "cell_type": "code",
   "execution_count": 147,
   "id": "d566c658",
   "metadata": {},
   "outputs": [],
   "source": [
    "df['arrival_date'] = pd.to_datetime(df['arrival_date'])\n",
    "df['reservation_status_date'] = pd.to_datetime(df['reservation_status_date'])\n"
   ]
  },
  {
   "cell_type": "code",
   "execution_count": 148,
   "id": "295295a9",
   "metadata": {},
   "outputs": [],
   "source": [
    "# Converting from datetime format to allow for computation\n",
    "\n",
    "df['arrival_date'] = df['arrival_date'].dt.date\n",
    "df['reservation_status_date'] = df['reservation_status_date'].dt.date\n",
    "\n",
    "# Creating new columns \n",
    "df['time'] = df['arrival_date'] - df['reservation_status_date']\n",
    "\n",
    "df['length_of_stay'] = df['num_of_week_nights'] + df['num_of_weekend_nights']"
   ]
  },
  {
   "cell_type": "code",
   "execution_count": 149,
   "id": "e683d874",
   "metadata": {},
   "outputs": [],
   "source": [
    "# Removing the signs from the column\n",
    "df['time'] = df['time'].abs()"
   ]
  },
  {
   "cell_type": "code",
   "execution_count": 153,
   "id": "9e23e5ef",
   "metadata": {},
   "outputs": [
    {
     "name": "stdout",
     "output_type": "stream",
     "text": [
      "118898\n"
     ]
    }
   ],
   "source": [
    "total_bookingss = df['Unnamed: 0'].count()\n",
    "\n",
    "print(total_bookingss)"
   ]
  },
  {
   "cell_type": "code",
   "execution_count": 151,
   "id": "05b8e39a",
   "metadata": {},
   "outputs": [
    {
     "name": "stdout",
     "output_type": "stream",
     "text": [
      "[2015 2016 2017]\n"
     ]
    }
   ],
   "source": [
    "years = df['arrival_date_year'].unique()\n",
    "print(years)"
   ]
  },
  {
   "cell_type": "markdown",
   "id": "52364d2c",
   "metadata": {},
   "source": [
    "### Calculating individual and overall stats of booking cancellations, stay length and repeat bookings, as well as booking increase and decrease per hotel & year\n"
   ]
  },
  {
   "cell_type": "code",
   "execution_count": 155,
   "id": "010b1511",
   "metadata": {},
   "outputs": [
    {
     "name": "stdout",
     "output_type": "stream",
     "text": [
      "          hotel  arrival_date_year  total_bookings  cancellation_count  \\\n",
      "0    City Hotel               2015           13663                5864   \n",
      "1    City Hotel               2016           38135               14848   \n",
      "2    City Hotel               2017           27504               11448   \n",
      "3  Resort Hotel               2015            8196                2054   \n",
      "4  Resort Hotel               2016           18300                4798   \n",
      "5  Resort Hotel               2017           13100                3938   \n",
      "\n",
      "   cancellation_percentage  avg_length_of_stay  repeat_bookings  \\\n",
      "0                     42.9                 2.7              507   \n",
      "1                     38.9                 3.0              915   \n",
      "2                     41.6                 3.1              610   \n",
      "3                     25.1                 4.5              134   \n",
      "4                     26.2                 4.1              859   \n",
      "5                     30.1                 4.5              781   \n",
      "\n",
      "   repeat_booking_percentage  \n",
      "0                        3.7  \n",
      "1                        2.4  \n",
      "2                        2.2  \n",
      "3                        1.6  \n",
      "4                        4.7  \n",
      "5                        6.0  \n"
     ]
    }
   ],
   "source": [
    "# Calculating individual stats of booking cancellations, stay length and repeat bookings\n",
    "\n",
    "# Total bookings\n",
    "total_bookings = df.groupby(['hotel', 'arrival_date_year']).size().reset_index(name='total_bookings')\n",
    "\n",
    "# Cancellation counts and percentages per hotel and year\n",
    "cancellation_counts = df[df['reservation_status'] == 'Canceled'].groupby(['hotel', 'arrival_date_year']).size().reset_index(name='cancellation_count')\n",
    "\n",
    "merged_df = pd.merge(total_bookings, cancellation_counts, on=['hotel', 'arrival_date_year'])\n",
    "\n",
    "merged_df['cancellation_percentage'] = ((merged_df['cancellation_count'] / merged_df['total_bookings']) * 100).round(1)\n",
    "\n",
    "# Average length of stay per hotel and year\n",
    "avg_length_of_stay = df.groupby(['hotel', 'arrival_date_year'])['length_of_stay'].mean().round(1).reset_index(name='avg_length_of_stay')\n",
    "\n",
    "merged_df = pd.merge(merged_df, avg_length_of_stay, on=['hotel', 'arrival_date_year'])\n",
    "\n",
    "# Number of repeat bookings and percentages per year and hotel\n",
    "repeat_bookings = df[df['is_repeated_guest'] == 1].groupby(['hotel', 'arrival_date_year']).size().reset_index(name='repeat_bookings')\n",
    "\n",
    "merged_df = pd.merge(merged_df, repeat_bookings, on=['hotel', 'arrival_date_year'])\n",
    "\n",
    "# Calculating repeat booking percentages\n",
    "merged_df['repeat_booking_percentage'] = ((merged_df['repeat_bookings'] / merged_df['total_bookings']) * 100).round(1)\n",
    "\n",
    "print(merged_df)\n"
   ]
  },
  {
   "cell_type": "code",
   "execution_count": 154,
   "id": "a7c01466",
   "metadata": {},
   "outputs": [
    {
     "name": "stdout",
     "output_type": "stream",
     "text": [
      "hotel\n",
      "City Hotel      40.55\n",
      "Resort Hotel    27.25\n",
      "dtype: float64\n",
      "hotel\n",
      "City Hotel      2.98\n",
      "Resort Hotel    4.34\n",
      "Name: length_of_stay, dtype: float64\n",
      "hotel\n",
      "City Hotel      2.56\n",
      "Resort Hotel    4.48\n",
      "dtype: float64\n"
     ]
    }
   ],
   "source": [
    "# Calculating overall stats of booking cancellations, stay length and repeat bookings per hotel\n",
    "\n",
    "percentage_total_of_cancellations = (df[df['reservation_status'] == 'Canceled'].groupby('hotel').size() / df.groupby('hotel').size() * 100).round(2)\n",
    "print(percentage_total_of_cancellations)\n",
    "\n",
    "\n",
    "print(df.groupby('hotel')['length_of_stay'].mean().round(2))\n",
    "\n",
    "\n",
    "\n",
    "repeated_guest_percentage = (df[df['is_repeated_guest'] == 1].groupby('hotel').size() / df.groupby('hotel').size() * 100).round(2)\n",
    "print(repeated_guest_percentage)"
   ]
  },
  {
   "cell_type": "code",
   "execution_count": 156,
   "id": "45b7816e",
   "metadata": {},
   "outputs": [
    {
     "name": "stdout",
     "output_type": "stream",
     "text": [
      "Booking Increase for City Hotel in 2016: 179.11%\n",
      "Booking Increase for Resort Hotel in 2016: 123.28%\n",
      "Booking Decrease for City Hotel in 2017: -27.88%\n",
      "Booking Decrease for Resort Hotel in 2017: -28.42%\n"
     ]
    }
   ],
   "source": [
    "# Calculating the booking increase and decrease per year. \n",
    "\n",
    "bookings_2015 = df[(df['arrival_date_year'] == 2015)]\n",
    "bookings_2016 = df[(df['arrival_date_year'] == 2016)]\n",
    "bookings_2017 = df[(df['arrival_date_year'] == 2017)]\n",
    "\n",
    "\n",
    "# The booking increase for each hotel between 2016 and 2017\n",
    "booking_increase_city = ((bookings_2016[bookings_2016['hotel'] == 'City Hotel'].shape[0] - bookings_2015[bookings_2015['hotel'] == 'City Hotel'].shape[0]) / bookings_2015[bookings_2015['hotel'] == 'City Hotel'].shape[0]) * 100\n",
    "\n",
    "booking_increase_resort = ((bookings_2016[bookings_2016['hotel'] == 'Resort Hotel'].shape[0] - bookings_2015[bookings_2015['hotel'] == 'Resort Hotel'].shape[0]) / bookings_2015[bookings_2015['hotel'] == 'Resort Hotel'].shape[0]) * 100\n",
    "\n",
    "# The booking decrease for each hotel between 2017 and 2016\n",
    "booking_decrease_city = ((bookings_2017[bookings_2017['hotel'] == 'City Hotel'].shape[0] - bookings_2016[bookings_2016['hotel'] == 'City Hotel'].shape[0]) / bookings_2016[bookings_2016['hotel'] == 'City Hotel'].shape[0]) * 100\n",
    "\n",
    "booking_decrease_resort = ((bookings_2017[bookings_2017['hotel'] == 'Resort Hotel'].shape[0] - bookings_2016[bookings_2016['hotel'] == 'Resort Hotel'].shape[0]) / bookings_2016[bookings_2016['hotel'] == 'Resort Hotel'].shape[0]) * 100\n",
    "\n",
    "\n",
    "print(f\"Booking Increase for City Hotel in 2016: {booking_increase_city:.2f}%\")\n",
    "print(f\"Booking Increase for Resort Hotel in 2016: {booking_increase_resort:.2f}%\")\n",
    "print(f\"Booking Decrease for City Hotel in 2017: {booking_decrease_city:.2f}%\")\n",
    "print(f\"Booking Decrease for Resort Hotel in 2017: {booking_decrease_resort:.2f}%\")\n"
   ]
  },
  {
   "cell_type": "markdown",
   "id": "ea0ca699",
   "metadata": {},
   "source": [
    "#### So far, we've established that:\n",
    "The **City Hotel** saw a 179.11% booking increase in 2016 but suffered a −27.88% decrease in 2017, while the **Resort Hotel** saw a 123.28% booking increase in 2016 and suffered a -28.42% decrease in 2017.\n",
    "\n",
    "**For Cancellation rates**: 40.55% of total City Hotel bookings are cancelled(42.94% in 2015, 38.97% in 2016 & 41.62% in 2017), while 27.25% of Resort Hotel bookings are cancelled(25.1% in 2015, 26.21% in 2016 & 30.11% in 2017).\n",
    "\n",
    "**For Length of Stay**: City Hotel guests book an average of 2.98 nights(2.7 nights in 2015, 3.0 nights in 2016 & 3.1 nights in 2017), while Resort Hotel guests book an average of 4.34 nights(4.5 nights in 2015,  4.1 nights in 2016 and 4.5 nights in 2017).\n",
    "\n",
    "**For Repeated Bookings:** Only A total of 2.56% of City Hotel bookings were repeat bookings(3.7% in 2015, 2.4% in 2016 and 2.2% in 2017), while only 4.48% of Resort Hotel bookings were repeat bookings(1.6% in 2015, 4.7% in 2016 & 6.0% in 2017)."
   ]
  },
  {
   "cell_type": "markdown",
   "id": "9b7c4674",
   "metadata": {},
   "source": [
    "## Research Questions\n",
    " \n",
    "\n",
    "#### 1. Booking Cancellation Analysis:\n",
    "\n",
    "###### Correlation doesn't equal Causation but we can find the possible factors for booking cancellations:\n",
    "\n",
    "Average wait time and lead time for cancellers vs. non-cancellers?\n",
    "What percentage of cancellers are new guests?\n",
    "Which customer type dominates cancellations?\n",
    "Top market segments and distribution channels for cancellations.\n",
    "Top countries with the most cancellers.\n",
    "Correlation between arrival season and cancellations.\n",
    "\n",
    "#### 2. Stay Length Analysis:\n",
    "\n",
    "###### What are the possible factors affecting length of stay:\n",
    "\n",
    "Seasons associated with longer stays?\n",
    "Top Countries with record of longer stays?\n",
    "Market segments, distribution channels, and customer types accounting for longer stays?\n",
    "Room types with the longer stays?\n",
    "Deposit types linked to longer stays?\n",
    "\n",
    "#### 3. Repeat Bookings Analysis:\n",
    "\n",
    "###### What are the possible factors affecting repeat bookings:\n",
    "\n",
    "Top arrival seasons for old vs. new guests.\n",
    "Differences in lead and wait times between new and old guests.\n",
    "Top countries for old and new guests.\n",
    "Variances in market segments, distribution channels, and customer types for old vs. new guests.\n",
    "Differences in cancellation rates and previous cancellations between old and new guests."
   ]
  },
  {
   "cell_type": "markdown",
   "id": "6d674945",
   "metadata": {},
   "source": [
    "## Analysis"
   ]
  },
  {
   "cell_type": "markdown",
   "id": "ca3a74e0",
   "metadata": {},
   "source": [
    "### 1. BOOKING CANCELLATIONS"
   ]
  },
  {
   "cell_type": "markdown",
   "id": "36f77400",
   "metadata": {},
   "source": [
    "#### Let's find possible reasons for the cancellation rates in both hotels."
   ]
  },
  {
   "cell_type": "code",
   "execution_count": 157,
   "id": "7187d7ed",
   "metadata": {},
   "outputs": [
    {
     "name": "stdout",
     "output_type": "stream",
     "text": [
      "Average length of stay for canceled bookings: 3.5 days\n",
      "Average length of stay for non-canceled bookings: 3.4 days\n"
     ]
    }
   ],
   "source": [
    "# First, let's compare the average length of stay for canceled/non-canceled bookings.\n",
    "\n",
    "avg_length_canceled = df[df['reservation_status'] == 'Canceled']['length_of_stay'].mean().round(1)\n",
    "avg_length_not_canceled = df[df['reservation_status'] == 'Check-Out']['length_of_stay'].mean().round(1)\n",
    "\n",
    "\n",
    "print(\"Average length of stay for canceled bookings:\", avg_length_canceled, \"days\")\n",
    "\n",
    "print(\"Average length of stay for non-canceled bookings:\", avg_length_not_canceled, \"days\")\n",
    "\n"
   ]
  },
  {
   "cell_type": "code",
   "execution_count": 158,
   "id": "0c7426ed",
   "metadata": {},
   "outputs": [
    {
     "name": "stdout",
     "output_type": "stream",
     "text": [
      "Average lead time for canceled bookings: 147.4 days\n",
      "Average lead time for non-canceled bookings: 80.3 days\n"
     ]
    }
   ],
   "source": [
    "# Next lets's compare the average lead times for canceled/non-canceled bookings\n",
    "\n",
    "avg_lt_canceled = df[df['reservation_status'] == 'Canceled']['lead_time'].mean().round(1)\n",
    "avg_lt_not_canceled = df[df['reservation_status'] == 'Check-Out']['lead_time'].mean().round(1)\n",
    "\n",
    "print(\"Average lead time for canceled bookings:\", avg_lt_canceled, \"days\")\n",
    "\n",
    "print(\"Average lead time for non-canceled bookings:\", avg_lt_not_canceled, \"days\")\n"
   ]
  },
  {
   "cell_type": "code",
   "execution_count": 159,
   "id": "42f46d2e",
   "metadata": {},
   "outputs": [
    {
     "name": "stdout",
     "output_type": "stream",
     "text": [
      "August       5142\n",
      "July         4640\n",
      "May          4545\n",
      "June         4450\n",
      "April        4435\n",
      "October      4156\n",
      "September    4035\n",
      "March        3027\n",
      "February     2466\n",
      "December     2281\n",
      "November     2042\n",
      "January      1731\n",
      "Name: arrival_date_month, dtype: int64\n",
      "August       8618\n",
      "July         7892\n",
      "May          7102\n",
      "October      6867\n",
      "March        6591\n",
      "April        6533\n",
      "June         6393\n",
      "September    6367\n",
      "February     5317\n",
      "November     4632\n",
      "December     4365\n",
      "January      4068\n",
      "Name: arrival_date_month, dtype: int64\n"
     ]
    }
   ],
   "source": [
    "# Now, let's investigate whether seasons play a role in booking cancelations\n",
    "\n",
    "seasons_canceled = df[df['reservation_status'] == 'Canceled']['arrival_date_month'].value_counts().nlargest(12)\n",
    "seasons_not_canceled = df[df['reservation_status'] == 'Check-Out']['arrival_date_month'].value_counts().nlargest(12)\n",
    "\n",
    "print(seasons_canceled)\n",
    "\n",
    "print(seasons_not_canceled)\n"
   ]
  },
  {
   "cell_type": "code",
   "execution_count": 160,
   "id": "14874bca",
   "metadata": {},
   "outputs": [
    {
     "name": "stdout",
     "output_type": "stream",
     "text": [
      "13906 bookers with disparring room type didn't cancel\n",
      "588 bookers with disparring room type canceled\n"
     ]
    }
   ],
   "source": [
    "# Could disparity in reserved and assigned room type be a leading cause for cancelations?\n",
    "disparity_in_rooms = df[df['reserved_room_type'] != df['assigned_room_type']]\n",
    "\n",
    "# For records where reserved room is different from the room later assigned, whats's the ratio of cancelations to non-cancelations?\n",
    "not_canceled_disparity_counts = disparity_in_rooms[disparity_in_rooms['reservation_status'] == 'Check-Out'].shape[0]\n",
    "\n",
    "canceled_disparity_counts = disparity_in_rooms[disparity_in_rooms['reservation_status'] == 'Canceled'].shape[0]\n",
    "\n",
    "\n",
    "print(not_canceled_disparity_counts, \"bookers with disparring room type didn't cancel\")\n",
    "\n",
    "print(canceled_disparity_counts, \"bookers with disparring room type canceled\")\n"
   ]
  },
  {
   "cell_type": "code",
   "execution_count": 161,
   "id": "b232a502",
   "metadata": {},
   "outputs": [
    {
     "name": "stdout",
     "output_type": "stream",
     "text": [
      "market_segment\n",
      "Online TA        20147\n",
      "Groups           12023\n",
      "Offline TA/TO     8047\n",
      "Direct            1709\n",
      "Corporate          905\n",
      "Complementary       78\n",
      "Aviation            41\n",
      "dtype: int64\n",
      "market_segment\n",
      "Online TA        35664\n",
      "Offline TA/TO    15882\n",
      "Direct           10528\n",
      "Groups            7709\n",
      "Corporate         4133\n",
      "Complementary      644\n",
      "Aviation           185\n",
      "dtype: int64\n"
     ]
    }
   ],
   "source": [
    "# Ascertaining if bookers from certain market segments cancel or do not cancel.\n",
    "\n",
    "msegment_canceled = df[df['reservation_status'] == 'Canceled'].groupby('market_segment').size().sort_values(ascending=False)\n",
    "msegment_not_canceled = df[df['reservation_status'] == 'Check-Out'].groupby('market_segment').size().sort_values(ascending=False)\n",
    "\n",
    "print(msegment_canceled)\n",
    "\n",
    "print(msegment_not_canceled)\n"
   ]
  },
  {
   "cell_type": "code",
   "execution_count": 198,
   "id": "efa06002",
   "metadata": {},
   "outputs": [
    {
     "name": "stdout",
     "output_type": "stream",
     "text": [
      "country\n",
      "PRT    26752\n",
      "GBR     2412\n",
      "ESP     2145\n",
      "FRA     1902\n",
      "dtype: int64\n",
      "country\n",
      "PRT    21071\n",
      "GBR     9676\n",
      "FRA     8481\n",
      "ESP     6391\n",
      "dtype: int64\n"
     ]
    }
   ],
   "source": [
    "# Are cancelers and non-cancelers from certain distinct countries?\n",
    "\n",
    "country_canceled = df[df['reservation_status'] == 'Canceled'].groupby('country').size().nlargest(4)\n",
    "countries_not_canceled = df[df['reservation_status'] == 'Check-Out'].groupby('country').size().nlargest(4)\n",
    "\n",
    "print(country_canceled)\n",
    "\n",
    "print(countries_not_canceled)\n"
   ]
  },
  {
   "cell_type": "code",
   "execution_count": 199,
   "id": "ac5ed248",
   "metadata": {},
   "outputs": [
    {
     "name": "stdout",
     "output_type": "stream",
     "text": [
      "distribution_channel\n",
      "TA/TO        57611\n",
      "Direct       11940\n",
      "Corporate     5037\n",
      "GDS            156\n",
      "Undefined        1\n",
      "dtype: int64\n",
      "distribution_channel\n",
      "TA/TO        39235\n",
      "Direct        2317\n",
      "Corporate     1364\n",
      "GDS             34\n",
      "dtype: int64\n"
     ]
    }
   ],
   "source": [
    "# Comparing by distribution channels\n",
    "\n",
    "distchannel_not_canceled = df[df['reservation_status'] == 'Check-Out'].groupby('distribution_channel').size().sort_values(ascending=False)\n",
    "distchannel_canceled = df[df['reservation_status'] == 'Canceled'].groupby('distribution_channel').size().sort_values(ascending=False)\n",
    "\n",
    "\n",
    "print(distchannel_not_canceled )\n",
    "\n",
    "\n",
    "print(distchannel_canceled)\n"
   ]
  },
  {
   "cell_type": "code",
   "execution_count": 164,
   "id": "b27a6ccc",
   "metadata": {},
   "outputs": [
    {
     "name": "stdout",
     "output_type": "stream",
     "text": [
      "customer_type    arrival_date_year\n",
      "Contract         2015                  1047\n",
      "                 2016                   115\n",
      "                 2017                    74\n",
      "Group            2015                    32\n",
      "                 2016                    10\n",
      "                 2017                    12\n",
      "Transient        2015                  3991\n",
      "                 2016                 17182\n",
      "                 2017                 14334\n",
      "Transient-Party  2015                  2848\n",
      "                 2016                  2339\n",
      "                 2017                   966\n",
      "dtype: int64\n",
      "customer_type    arrival_date_year\n",
      "Contract         2015                  1597\n",
      "                 2016                   632\n",
      "                 2017                   585\n",
      "Group            2015                   158\n",
      "                 2016                   152\n",
      "                 2017                   202\n",
      "Transient        2015                  7170\n",
      "                 2016                 26438\n",
      "                 2017                 19106\n",
      "Transient-Party  2015                  4828\n",
      "                 2016                  8900\n",
      "                 2017                  4977\n",
      "dtype: int64\n"
     ]
    }
   ],
   "source": [
    "# Comparing groups by customer type and year\n",
    "\n",
    "type_customer_canceled = df[df['reservation_status'] == 'Canceled'].groupby(['customer_type','arrival_date_year']).size()\n",
    "type_customer_not_canceled = df[df['reservation_status'] == 'Check-Out'].groupby(['customer_type','arrival_date_year']).size()\n",
    "\n",
    "\n",
    "print(type_customer_canceled)\n",
    "\n",
    "print(type_customer_not_canceled)"
   ]
  },
  {
   "cell_type": "code",
   "execution_count": 165,
   "id": "2d879827",
   "metadata": {},
   "outputs": [
    {
     "name": "stdout",
     "output_type": "stream",
     "text": [
      "Average booking changes for canceled reservations: 4061\n",
      "Average booking changes for non-canceled reservations: 21957\n"
     ]
    }
   ],
   "source": [
    "# Does booking changes affect booking cancelations or not?\n",
    "\n",
    "canceled_reservations = df[df['reservation_status'] == 'Canceled']\n",
    "notcanceled_reservations = df[df['reservation_status'] == 'Check-Out']\n",
    "\n",
    "\n",
    "avg_booking_changes_canceled = canceled_reservations['booking_changes'].sum().round(1)\n",
    "avg_booking_changes_not_canceled = notcanceled_reservations['booking_changes'].sum().round(1)\n",
    "\n",
    "print(\"Average booking changes for canceled reservations:\", avg_booking_changes_canceled)\n",
    "print(\"Average booking changes for non-canceled reservations:\", avg_booking_changes_not_canceled)"
   ]
  },
  {
   "cell_type": "code",
   "execution_count": 166,
   "id": "ccd08003",
   "metadata": {},
   "outputs": [
    {
     "name": "stdout",
     "output_type": "stream",
     "text": [
      "Average days in waiting list for those who canceled: 3.7 days.\n",
      "Average days in waiting list for those who canceled: 1.6 days.\n"
     ]
    }
   ],
   "source": [
    "# Does wait times affect booking cancelations?\n",
    "\n",
    "canceled = df[df['reservation_status'] == 'Canceled']\n",
    "not_canceled = df[df['reservation_status'] == 'Check-Out']\n",
    "\n",
    "\n",
    "waiting_list_canceled = canceled['days_in_waiting_list'].mean().round(1)\n",
    "waiting_list_not_canceled = not_canceled['days_in_waiting_list'].mean().round(1)\n",
    "\n",
    "print(\"Average days in waiting list for those who canceled:\", waiting_list_canceled, \"days.\")\n",
    "print(\"Average days in waiting list for those who canceled:\", waiting_list_not_canceled, \"days.\")"
   ]
  },
  {
   "cell_type": "code",
   "execution_count": 200,
   "id": "72d4c59d",
   "metadata": {},
   "outputs": [
    {
     "name": "stdout",
     "output_type": "stream",
     "text": [
      "507 bookers who canceled have previously booked \n",
      "42443 bookers who canceled have not previously booked \n",
      "3254 bookers who didn't cancel have previously booked\n",
      "71491 bookers who didn't cancel have not previously booked\n"
     ]
    }
   ],
   "source": [
    "# Are cancelers old or new guests?\n",
    "\n",
    "canceled_old_guests = df[(df['reservation_status'] == 'Canceled') & (df['is_repeated_guest'] == 1)].value_counts().shape[0]\n",
    "canceled_new_guests = df[(df['reservation_status'] == 'Canceled') & (df['is_repeated_guest'] == 0)].value_counts().shape[0]\n",
    "not_canceled_old_guests = df[(df['reservation_status'] == 'Check-Out') & (df['is_repeated_guest'] == 1)].value_counts().shape[0]\n",
    "not_canceled_new_guests = df[(df['reservation_status'] == 'Check-Out') & (df['is_repeated_guest'] == 0)].value_counts().shape[0]\n",
    "\n",
    "\n",
    "print(canceled_old_guests, \"bookers who canceled have previously booked \")\n",
    "\n",
    "print(canceled_new_guests, \"bookers who canceled have not previously booked \")\n",
    "\n",
    "print(not_canceled_old_guests, \"bookers who didn't cancel have previously booked\")\n",
    "\n",
    "\n",
    "print(not_canceled_new_guests, \"bookers who didn't cancel have not previously booked\")\n"
   ]
  },
  {
   "cell_type": "markdown",
   "id": "f5bd6337",
   "metadata": {},
   "source": [
    "### FINDINGS A : GUESTS CANCELLATION INSIGHTS"
   ]
  },
  {
   "cell_type": "markdown",
   "id": "2510a7d1",
   "metadata": {},
   "source": [
    "- From the result above, we see that the length of stay booked by guests may most likely not play a role in booking cancellations. That is, there's no indication that guests cancel because of proposed length of stay as there is hardly a difference between that of canceled and non-canceled bookings.\n",
    "- There is a 67.1 days difference between lead times for canceled and non-canceled bookings. That's enough difference to suggest that lead times may play a role in booking cancelations.\n",
    "- The summer months, for both categories record the highest bookings, while winter months hold the least.\n",
    "- Although a wide margin, the result shows that disparity in room types is likely NOT the leading cause of booking cancelations.\n",
    "- For both categories, Online TA emerges top and Aviation least. \n",
    "  Therefore, market segments likely do not play a role in cancelations\n",
    "- There are no differences in the 4 top countries(PRT, GBR, ESP & FRA), guests from these 4 countries are both the main cancellers and non-cancellers.\n",
    "- In the two groups, the top and least distribution channels are similar.\n",
    "- Given the data, Transient customer type both canceled the most and didn't cancel the most, as well.\n",
    "- Booking changes is not likely a leading cause of cancelations as there are more than 100% higher booking changes for non-cancelers than cancelers.\n",
    "- There's up to 2 days in waiting list difference for those who canceled. It is possible for guests to have opted out for lack of impatience or they found other alternatives that doesn't require waiting.\n",
    "- Both cancelers and non-cancelers are new and old guests. In both categories new guests are much more."
   ]
  },
  {
   "cell_type": "markdown",
   "id": "dac1a2cb",
   "metadata": {},
   "source": [
    "### 2. LENGTH OF STAY "
   ]
  },
  {
   "cell_type": "markdown",
   "id": "09366565",
   "metadata": {},
   "source": [
    "#### What factors influence guest's length of stay?"
   ]
  },
  {
   "cell_type": "code",
   "execution_count": 201,
   "id": "1069b867",
   "metadata": {},
   "outputs": [
    {
     "name": "stdout",
     "output_type": "stream",
     "text": [
      "hotel         arrival_date_year\n",
      "City Hotel    2015                 2.7\n",
      "              2016                 3.0\n",
      "              2017                 3.1\n",
      "Resort Hotel  2015                 4.5\n",
      "              2016                 4.1\n",
      "              2017                 4.5\n",
      "Name: length_of_stay, dtype: float64\n",
      "hotel         arrival_date_year\n",
      "City Hotel    2015                 2.8\n",
      "              2016                 2.9\n",
      "              2017                 3.0\n",
      "Resort Hotel  2015                 4.4\n",
      "              2016                 4.0\n",
      "              2017                 4.3\n",
      "Name: length_of_stay, dtype: float64\n",
      "hotel         arrival_date_year\n",
      "City Hotel    2015                 2.7\n",
      "              2016                 3.0\n",
      "              2017                 3.2\n",
      "Resort Hotel  2015                 4.7\n",
      "              2016                 4.6\n",
      "              2017                 5.2\n",
      "Name: length_of_stay, dtype: float64\n"
     ]
    }
   ],
   "source": [
    "# Are there significant differnces in booked length of stay between overall bookers, cancelers and non-cancelers?\n",
    "avg_length_of_stay_all = df.groupby(['hotel','arrival_date_year'])['length_of_stay'].mean().round(1)\n",
    "\n",
    "#Filtered\n",
    "noncancelers_filtered = df[df['reservation_status'] == 'Check-Out'].groupby(['hotel','arrival_date_year'])\n",
    "avg_length_of_stay_noncancelers = noncancelers_filtered['length_of_stay'].mean().round(1)\n",
    "\n",
    "cancelers_filtered = df[df['reservation_status'] == 'Canceled'].groupby(['hotel','arrival_date_year'])\n",
    "avg_length_of_stay_cancelers = cancelers_filtered['length_of_stay'].mean().round(1)\n",
    "\n",
    "print(avg_length_of_stay_all)\n",
    "print(avg_length_of_stay_noncancelers)\n",
    "print(avg_length_of_stay_cancelers)"
   ]
  },
  {
   "cell_type": "code",
   "execution_count": 202,
   "id": "ec13f76b",
   "metadata": {},
   "outputs": [
    {
     "name": "stdout",
     "output_type": "stream",
     "text": [
      "arrival_date_month\n",
      "June         5.4\n",
      "July         5.3\n",
      "August       5.2\n",
      "September    5.1\n",
      "May          4.3\n",
      "March        4.2\n",
      "April        4.1\n",
      "October      4.0\n",
      "November     3.6\n",
      "December     3.3\n",
      "February     3.1\n",
      "January      2.9\n",
      "Name: Average Length of Stay for Resort Hotel, dtype: float64\n",
      "arrival_date_month\n",
      "August       3.2\n",
      "December     3.2\n",
      "July         3.1\n",
      "March        3.1\n",
      "April        3.0\n",
      "February     3.0\n",
      "January      3.0\n",
      "November     3.0\n",
      "June         2.9\n",
      "May          2.8\n",
      "September    2.8\n",
      "October      2.7\n",
      "Name: Average Length of Stay for City Hotel, dtype: float64\n"
     ]
    }
   ],
   "source": [
    "# Do seasons affect guests' length of stay?\n",
    "resort_season_length = df[df['hotel'] == 'Resort Hotel'].groupby(['arrival_date_month'])['length_of_stay'].mean().round(1).nlargest(12)\n",
    "city_season_length = df[df['hotel'] == 'City Hotel'].groupby(['arrival_date_month'])['length_of_stay'].mean().round(1).nlargest(12)\n",
    "resort_length = resort_season_length.rename('Average Length of Stay for Resort Hotel')\n",
    "city_length = city_season_length.rename('Average Length of Stay for City Hotel')\n",
    "\n",
    "print(resort_length)\n",
    "print(city_length)"
   ]
  },
  {
   "cell_type": "code",
   "execution_count": 170,
   "id": "3ab5308d",
   "metadata": {},
   "outputs": [
    {
     "name": "stdout",
     "output_type": "stream",
     "text": [
      "The correlation between lead time and length of stay is: 0.2\n",
      "The correlation between adults and length of stay is: 0.1\n",
      "The correlation between children and length of stay is: 0.1\n",
      "The correlation between babies and length of stay is: 0.0\n"
     ]
    }
   ],
   "source": [
    "# Now let's see if there is any correlation between the lead time and length of stay\n",
    "corr_length_lead_time = df['length_of_stay'].corr(df['lead_time']).round(1)\n",
    "\n",
    "# Is there any correlation between the age categories of guests and length of stay\n",
    "\n",
    "corr_length_adults = df['length_of_stay'].corr(df['adults']).round(1)\n",
    "\n",
    "corr_length_children = df['length_of_stay'].corr(df['children']).round(1)\n",
    "\n",
    "corr_length_babies = df['length_of_stay'].corr(df['babies']).round(1)\n",
    "\n",
    "print(\"The correlation between lead time and length of stay is:\", corr_length_lead_time)\n",
    "print(\"The correlation between adults and length of stay is:\",corr_length_adults)\n",
    "print(\"The correlation between children and length of stay is:\",corr_length_children)\n",
    "print(\"The correlation between babies and length of stay is:\",corr_length_babies)"
   ]
  },
  {
   "cell_type": "code",
   "execution_count": 215,
   "id": "17ddfdc3",
   "metadata": {},
   "outputs": [
    {
     "name": "stdout",
     "output_type": "stream",
     "text": [
      "country\n",
      "SEN    10.0\n",
      "AZE     9.0\n",
      "TGO     9.0\n",
      "MKD     8.0\n",
      "ARM     7.0\n",
      "Name: Longest Average Length of stay by country for Resort Hotel, dtype: float64\n",
      "country\n",
      "QAT    0.0\n",
      "BIH    1.0\n",
      "COM    1.0\n",
      "DJI    1.0\n",
      "GGY    1.0\n",
      "Name: Shortest Average Length of stay by country for Resort Hotel, dtype: float64\n",
      "country\n",
      "FRO    12.0\n",
      "SEN     8.7\n",
      "AGO     8.5\n",
      "CPV     7.2\n",
      "GNB     7.1\n",
      "Name: Longest Average Length of stay by country for City Hotel, dtype: float64\n",
      "country\n",
      "ASM    1.0\n",
      "BFA    1.0\n",
      "COM    1.0\n",
      "HND    1.0\n",
      "MLI    1.0\n",
      "Name: Shortest Average Length of stay by country for City Hotel, dtype: float64\n"
     ]
    }
   ],
   "source": [
    "# Do guests from certain countries stay longer at the Resort hotel?\n",
    "\n",
    "country_length_resort_large = df[df['hotel'] == 'Resort Hotel'].groupby('country')['length_of_stay'].mean().nlargest(5)\n",
    "country_length_resort_small = df[df['hotel'] == 'Resort Hotel'].groupby('country')['length_of_stay'].mean().nsmallest(5)\n",
    "length_large_resort = country_length_resort_large.rename('Longest Average Length of stay by country for Resort Hotel')\n",
    "length_small_resort = country_length_resort_small.rename('Shortest Average Length of stay by country for Resort Hotel')\n",
    "\n",
    "print(length_large_resort)\n",
    "print(length_small_resort)\n",
    "\n",
    "# Do guests from certain countries stay longer at the City Hotel?\n",
    "\n",
    "country_length_city_large = df[df['hotel'] == 'City Hotel'].groupby('country')['length_of_stay'].mean().round(1).nlargest(5)\n",
    "country_length_city_small = df[df['hotel'] == 'City Hotel'].groupby('country')['length_of_stay'].mean().round(1).nsmallest(5)\n",
    "length_large_city = country_length_city_large.rename('Longest Average Length of stay by country for City Hotel')\n",
    "length_small_city = country_length_city_small.rename('Shortest Average Length of stay by country for City Hotel')\n",
    "\n",
    "print(length_large_city)\n",
    "print(length_small_city)\n",
    "\n"
   ]
  },
  {
   "cell_type": "code",
   "execution_count": 213,
   "id": "54a1b927",
   "metadata": {},
   "outputs": [
    {
     "name": "stdout",
     "output_type": "stream",
     "text": [
      "market_segment\n",
      "Aviation         3.6\n",
      "Online TA        3.3\n",
      "Direct           2.9\n",
      "Offline TA/TO    2.9\n",
      "Groups           2.5\n",
      "Corporate        1.9\n",
      "Complementary    1.5\n",
      "Name: Average Length of stay for City hotel by market segment, dtype: float64\n",
      "market_segment\n",
      "Offline TA/TO    6.2\n",
      "Online TA        4.2\n",
      "Groups           4.1\n",
      "Direct           3.5\n",
      "Corporate        2.4\n",
      "Complementary    2.1\n",
      "Name: Average Length of stay for Resort hotel by market segment, dtype: float64\n"
     ]
    }
   ],
   "source": [
    "# Do guests belonging to ceratin market segments stay for longer nights?\n",
    "\n",
    "market_length_city = df[df['hotel'] == 'City Hotel'].groupby(['market_segment'])['length_of_stay'].mean().round(1).sort_values(ascending=False)\n",
    "market_length_resort = df[df['hotel'] == 'Resort Hotel'].groupby(['market_segment'])['length_of_stay'].mean().round(1).sort_values(ascending=False)\n",
    "length_market_city = market_length_city.rename('Average Length of stay for City hotel by market segment')\n",
    "length_market_resort = market_length_resort.rename('Average Length of stay for Resort hotel by market segment')\n",
    "\n",
    "print(length_market_city)\n",
    "print(length_market_resort)"
   ]
  },
  {
   "cell_type": "code",
   "execution_count": 212,
   "id": "7f84d8fc",
   "metadata": {},
   "outputs": [
    {
     "name": "stdout",
     "output_type": "stream",
     "text": [
      "distribution_channel\n",
      "Undefined    5.0\n",
      "TA/TO        4.7\n",
      "Direct       3.6\n",
      "Corporate    2.9\n",
      "Name: Average Length of stay for Resort hotel by distribution channel, dtype: float64\n",
      "distribution_channel\n",
      "TA/TO        3.1\n",
      "Direct       2.8\n",
      "Corporate    2.0\n",
      "GDS          2.0\n",
      "Name: Average Length of stay for City hotel by distribution channel, dtype: float64\n"
     ]
    }
   ],
   "source": [
    "# Comparing length of stay by distribution channels\n",
    "\n",
    "distchannel_length_resort = df[df['hotel'] == 'Resort Hotel'].groupby(['distribution_channel'])['length_of_stay'].mean().round(1).sort_values(ascending=False)\n",
    "distchannel_length_city = df[df['hotel'] == 'City Hotel'].groupby(['distribution_channel'])['length_of_stay'].mean().round(1).sort_values(ascending=False)\n",
    "length_distchannel_resort = distchannel_length_resort.rename('Average Length of stay for Resort hotel by distribution channel')\n",
    "length_distchannel_city = distchannel_length_city.rename('Average Length of stay for City hotel by distribution channel')\n",
    "\n",
    "print(length_distchannel_resort)\n",
    "print(length_distchannel_city)\n",
    "\n"
   ]
  },
  {
   "cell_type": "code",
   "execution_count": 207,
   "id": "b04b073e",
   "metadata": {},
   "outputs": [
    {
     "name": "stdout",
     "output_type": "stream",
     "text": [
      "The correlation between stay length and previous cancelation in City hotel is  -0.1\n",
      "The correlation between stay length and previous cancelation in Resort hotel is -0.0\n"
     ]
    }
   ],
   "source": [
    "# Could there be a correlation between length of stay and guests' previous cancelations?\n",
    "\n",
    "corr_prevcanc_city = df[df['hotel'] == 'City Hotel']['length_of_stay'].corr(df['previous_cancellations']).round(1)\n",
    "corr_prevcanc_resort = df[df['hotel'] == 'Resort Hotel']['length_of_stay'].corr(df['previous_cancellations']).round(1)\n",
    "\n",
    "print(\"The correlation between stay length and previous cancelation in City hotel is \", corr_prevcanc_city)\n",
    "print(\"The correlation between stay length and previous cancelation in Resort hotel is\",corr_prevcanc_resort)"
   ]
  },
  {
   "cell_type": "code",
   "execution_count": 208,
   "id": "a052460b",
   "metadata": {},
   "outputs": [
    {
     "name": "stdout",
     "output_type": "stream",
     "text": [
      "The correlation between stay length and previous booking not canceled is  -0.1\n",
      "The correlation between stay length and booking changes is  0.1\n",
      "The correlation between stay length and days in waiting list is  -0.0\n"
     ]
    }
   ],
   "source": [
    "# Checking for correlation between length of stay and previous bookings not canceled, booking changes, days in waiting list\n",
    "\n",
    "corr_length_prevnotcanc = df['length_of_stay'].corr(df['previous_bookings_not_canceled']).round(1)\n",
    "corr_length_booking_changes = df['length_of_stay'].corr(df['booking_changes']).round(1)\n",
    "corr_length_waiting_list = df['length_of_stay'].corr(df['days_in_waiting_list']).round(1)\n",
    "\n",
    "\n",
    "print(\"The correlation between stay length and previous booking not canceled is \", corr_length_prevnotcanc)\n",
    "\n",
    "print(\"The correlation between stay length and booking changes is \", corr_length_booking_changes)\n",
    "\n",
    "\n",
    "print(\"The correlation between stay length and days in waiting list is \", corr_length_waiting_list)"
   ]
  },
  {
   "cell_type": "code",
   "execution_count": 209,
   "id": "86f008e5",
   "metadata": {},
   "outputs": [
    {
     "name": "stdout",
     "output_type": "stream",
     "text": [
      "customer_type\n",
      "Contract           8.6\n",
      "Transient          4.2\n",
      "Transient-Party    3.9\n",
      "Group              3.2\n",
      "Name: Length of stay for Resort hotel by Customer type, dtype: float64\n",
      "customer_type\n",
      "Transient          3.1\n",
      "Contract           2.8\n",
      "Transient-Party    2.7\n",
      "Group              2.6\n",
      "Name: Length of stay for City hotel by Customer type, dtype: float64\n"
     ]
    }
   ],
   "source": [
    "# What is the average stay length per customer type for each hotel\n",
    "\n",
    "cust_length_resort = df[df['hotel'] == 'Resort Hotel'].groupby(['customer_type'])['length_of_stay'].mean().round(1).sort_values(ascending=False)\n",
    "cust_length_city = df[df['hotel'] == 'City Hotel'].groupby(['customer_type'])['length_of_stay'].mean().round(1).sort_values(ascending=False)\n",
    "length_custtype_resort = cust_length_resort.rename('Length of stay for Resort hotel by Customer type')\n",
    "length_custtype_city = cust_length_city.rename('Length of stay for City hotel by Customer type')\n",
    "\n",
    "print(length_custtype_resort)\n",
    "print(length_custtype_city)\n",
    "\n"
   ]
  },
  {
   "cell_type": "code",
   "execution_count": 211,
   "id": "4095893b",
   "metadata": {},
   "outputs": [
    {
     "name": "stdout",
     "output_type": "stream",
     "text": [
      "reserved_room_type\n",
      "D    3.5\n",
      "E    3.5\n",
      "B    3.4\n",
      "G    3.4\n",
      "F    3.3\n",
      "A    2.9\n",
      "C    2.1\n",
      "P    0.0\n",
      "Name: Average Length of stay by Reserved room in City hotel, dtype: float64\n",
      "reserved_room_type\n",
      "D    5.2\n",
      "E    5.1\n",
      "C    4.7\n",
      "G    4.6\n",
      "F    4.4\n",
      "H    4.0\n",
      "A    3.9\n",
      "B    1.3\n",
      "L    1.2\n",
      "Name: Average Length of stay by Reserved room in Resort hotel, dtype: float64\n"
     ]
    }
   ],
   "source": [
    "# Let's see the average length of stay by rooms reserved.\n",
    "city_filtered = df[df['hotel'] == 'City Hotel']\n",
    "resort_filtered = df[df['hotel'] == 'Resort Hotel']\n",
    "\n",
    "\n",
    "resroom_length_city = city_filtered.groupby(['reserved_room_type'])['length_of_stay'].mean().round(1).sort_values(ascending=False)\n",
    "resroom_length_resort = resort_filtered.groupby(['reserved_room_type'])['length_of_stay'].mean().round(1).sort_values(ascending=False)\n",
    "length_resroom_city = resroom_length_city.rename('Average Length of stay by Reserved room in City hotel')\n",
    "length_resroom_resort = resroom_length_resort.rename('Average Length of stay by Reserved room in Resort hotel')\n",
    "\n",
    "\n",
    "print(length_resroom_city)\n",
    "print(length_resroom_resort)"
   ]
  },
  {
   "cell_type": "code",
   "execution_count": 217,
   "id": "4e61df76",
   "metadata": {},
   "outputs": [
    {
     "name": "stdout",
     "output_type": "stream",
     "text": [
      "deposit_type\n",
      "Refundable    4.5\n",
      "No Deposit    3.1\n",
      "Non Refund    2.6\n",
      "Name: Average Length of stay by Deposit type in City hotel, dtype: float64\n",
      "deposit_type\n",
      "No Deposit    4.4\n",
      "Non Refund    3.9\n",
      "Refundable    3.7\n",
      "Name: Average Length of stay by Deposit type in Resort hotel, dtype: float64\n"
     ]
    }
   ],
   "source": [
    "# Lastly, let us see stay length per deposit type.\n",
    "deptype_length_city = df[df['hotel'] == 'City Hotel'].groupby(['deposit_type'])['length_of_stay'].mean().round(1).sort_values(ascending=False)\n",
    "deptype_length_resort = df[df['hotel'] == 'Resort Hotel'].groupby(['deposit_type'])['length_of_stay'].mean().round(1).sort_values(ascending=False)\n",
    "length_deptype_city = deptype_length_city.rename('Average Length of stay by Deposit type in City hotel')\n",
    "length_deptype_resort = deptype_length_resort.rename('Average Length of stay by Deposit type in Resort hotel')\n",
    "\n",
    "\n",
    "print(length_deptype_city)\n",
    "\n",
    "\n",
    "print(length_deptype_resort)\n"
   ]
  },
  {
   "cell_type": "markdown",
   "id": "3ea0975c",
   "metadata": {},
   "source": [
    "### FINDINGS B: FACTORS INFLUENCING GUESTS LENGTH OF STAY"
   ]
  },
  {
   "cell_type": "markdown",
   "id": "b18732f7",
   "metadata": {},
   "source": [
    "- There are no significant differences for each group- Overall, canceled guests and non-canceled guests.\n",
    "\n",
    "- There is no or weak correlation between the length of stay and lead time, if guests are adults, children or babies.\n",
    "\n",
    "- For the Resort, guests typically stay longer(5-4 nights) during the summer, fall and spring seasons, while winter season records the shortest stays(3-2 nights).\n",
    "  For the City hotel, the hot summer and the festive december takes the lead for the longer stays(3.2 nights), while Fall seasons holds the shorter stays with 2 nights.\n",
    "  \n",
    "- Guests who stay at the Resort Hotel the longest(an average of 7-10 nights) come from Senegal, Azerbaijan, Togo, North Macedonia and Armenia; \n",
    "  while the ones who stay for less than a night to 1 night come from Qatar, Bosnia & Herzegovina, Comoros, Djibouti and Guernsey\n",
    "- Guests who stay at the City Hotel the longest(average of 7-12 nights) come from Faroe Islands, Senegal , Angola, Cape Verde and Guinea-Bissau; \n",
    "  while the ones who stay for only a night to 1 night come from American Samoa, Burkina Faso, Comoros, Honduras and Mali.\n",
    "  \n",
    "- For the City hotel, guests falling into the Aviation and Online TA market segments, booked the longest stays with an average of 3 nights and guests from the Corporate & Complimentary market segments, booked the shortest stays, averaging a single night.\n",
    "  While Resort hotel guests, who fall into the Offline TA/TO , Online TA market as well as Group market segments, booked the longest stays with an average of 4-6 nights. Guests from the Corporate & Complimentary market segments also, booked the shortest stays, averaging 2 nights.\n",
    "  \n",
    "- Resort hotel guests who booked through Undefined and TA/TO distribution channels, account for guests with the longest stays with an average of 4-5 nights and those who booked through Corporate distribution channel, booked the shortest stays, averaging 2 nights. \n",
    "  While City hotel guests, who booked via TA/TO and Direct distribution channels, booked the longest stays with an average of 2.8 - 3 nights. Guests who booked via the Corporate & GDS distribution channels, booked the shortest stays, averaging 2 nights.\n",
    "  \n",
    "- A negative correlation is indicated for both Resort and City hotel, meaning there's no correlation between previous cancelation and length of stay.\n",
    "\n",
    "- It is safe to say there is no positive correlation between length of stay and previous bookings not canceled, booking changes and days in waiting list.\n",
    "\n",
    "- Contract customers stay longer at the Resort hotel, an average of 8 nights, and Group customers stay have the shortest with only an average of 3 nights.\n",
    "  Transient customers stay the longest at the City hotel with an average of 3 nights and Group customers stay the least also with an average of 2 nights.\n",
    "  \n",
    "- In the City hotel, guests who booked Triple(D) and Single(E) rooms stayed the longest for an average of 3.5 nights, guests in the Presidential Suite (P) didn't stay for up to a night.\n",
    "  In the Resort hotel, guests who booked Triple(D) and Single(E) rooms also stayed the longest for an average of 5 nights, whereas Superior Room (B) and Deluxe Room (L) occupants stayed the shortest for only an average of a single night.\n",
    "  \n",
    "- In the City hotel, guests who utilize refundable deposits, tend to book longer stays of an average of 4 nights, guests who use non-refundable book shorter for 2 nights.\n",
    "  In Resort hotel, guests without deposit book for longest( an average of 4 nights) while those with refundable deposits book shorter stays(3 nights)."
   ]
  },
  {
   "cell_type": "markdown",
   "id": "5b1933fa",
   "metadata": {},
   "source": [
    "### 3. TRENDS IN CUSTOMER RETENTION & LOYALTY"
   ]
  },
  {
   "cell_type": "code",
   "execution_count": 218,
   "id": "7c7df385",
   "metadata": {},
   "outputs": [
    {
     "name": "stdout",
     "output_type": "stream",
     "text": [
      "arrival_date_month\n",
      "February     265\n",
      "March        242\n",
      "January      219\n",
      "April        178\n",
      "May          163\n",
      "December     146\n",
      "November     129\n",
      "June         127\n",
      "August        85\n",
      "July          85\n",
      "October       83\n",
      "September     52\n",
      "Name: Repeated guests by seasons in Resort hotel, dtype: int64\n",
      "arrival_date_month\n",
      "August       8842\n",
      "May          8029\n",
      "July         7872\n",
      "June         7739\n",
      "April        7371\n",
      "October      7361\n",
      "September    7251\n",
      "March        6275\n",
      "February     4819\n",
      "November     4190\n",
      "December     3963\n",
      "January      3558\n",
      "Name: New guests by seasons in City hotel, dtype: int64\n",
      "arrival_date_month\n",
      "October      230\n",
      "July         216\n",
      "May          203\n",
      "March        183\n",
      "January      178\n",
      "December     166\n",
      "November     164\n",
      "June         155\n",
      "September    149\n",
      "February     146\n",
      "August       137\n",
      "April        105\n",
      "Name: Repeated guests by seasons in City hotel, dtype: int64\n",
      "arrival_date_month\n",
      "August       4788\n",
      "July         4455\n",
      "October      3421\n",
      "April        3391\n",
      "May          3384\n",
      "March        3039\n",
      "September    3015\n",
      "June         2906\n",
      "February     2782\n",
      "December     2453\n",
      "November     2269\n",
      "January      1919\n",
      "Name: New guests by seasons in Resort hotel, dtype: int64\n"
     ]
    }
   ],
   "source": [
    "# Comparing seasons for repeat bookings\n",
    "szn_repeated_resort = df[(df['hotel'] == 'Resort Hotel') & (df['is_repeated_guest'] == True)].groupby('arrival_date_month').size().nlargest(12)\n",
    "szn_repeated_city = df[(df['hotel'] == 'City Hotel') & (df['is_repeated_guest'] == True)].groupby('arrival_date_month').size().nlargest(12)\n",
    "\n",
    "szn_not_repeated_resort = df[(df['hotel'] == 'Resort Hotel') & (df['is_repeated_guest'] == False)].groupby('arrival_date_month').size().nlargest(12)\n",
    "szn_not_repeated_city = df[(df['hotel'] == 'City Hotel') & (df['is_repeated_guest'] == False)].groupby('arrival_date_month').size().nlargest(12)\n",
    "\n",
    "final_szn_repeated_resort = szn_repeated_resort.rename(\"Repeated guests by seasons in Resort hotel\")\n",
    "final_szn_not_repeated_city = szn_not_repeated_city.rename(\"New guests by seasons in City hotel\")\n",
    "final_szn_repeated_city = szn_repeated_city.rename(\"Repeated guests by seasons in City hotel\")\n",
    "final_szn_not_repeated_resort = szn_not_repeated_resort.rename(\"New guests by seasons in Resort hotel\")\n",
    "\n",
    "\n",
    "print(final_szn_repeated_resort)\n",
    "print(final_szn_not_repeated_city)\n",
    "print(final_szn_repeated_city)\n",
    "print(final_szn_not_repeated_resort)"
   ]
  },
  {
   "cell_type": "code",
   "execution_count": 219,
   "id": "aca1d342",
   "metadata": {},
   "outputs": [
    {
     "name": "stdout",
     "output_type": "stream",
     "text": [
      "The average lead time for Resort hotel old guests is 24.9\n",
      "The average lead time for City hotel old guests is 35.9\n",
      "The average lead time for Resort hotel new guests is 96.7\n",
      "The average lead time for City hotel new guests is 111.7\n"
     ]
    }
   ],
   "source": [
    "# Does lead time affect guests' retention?\n",
    "\n",
    "lead_time_resort_retend = df[(df['hotel'] == 'Resort Hotel') & (df['is_repeated_guest'] == True)]['lead_time'].mean().round(1)\n",
    "lead_time_city_retend = df[(df['hotel'] == 'City Hotel') & (df['is_repeated_guest'] == True)]['lead_time'].mean().round(1)\n",
    "lead_time_resort_unretend = df[(df['hotel'] == 'Resort Hotel') & (df['is_repeated_guest'] == False)]['lead_time'].mean().round(1)\n",
    "lead_time_city_unretend = df[(df['hotel'] == 'City Hotel') & (df['is_repeated_guest'] == False)]['lead_time'].mean().round(1)\n",
    "\n",
    "\n",
    "\n",
    "print(\"The average lead time for Resort hotel old guests is\", lead_time_resort_retend)\n",
    ",\n",
    "print(\"The average lead time for City hotel old guests is\", lead_time_city_retend)\n",
    "\n",
    "print(\"The average lead time for Resort hotel new guests is\", lead_time_resort_unretend)\n",
    "\n",
    "print(\"The average lead time for City hotel new guests is\", lead_time_city_unretend)"
   ]
  },
  {
   "cell_type": "code",
   "execution_count": 221,
   "id": "e91fe685",
   "metadata": {},
   "outputs": [
    {
     "name": "stdout",
     "output_type": "stream",
     "text": [
      "hotel\n",
      "City Hotel      2693\n",
      "Resort Hotel    2594\n",
      "Name: adults, dtype: int64\n",
      "hotel\n",
      "City Hotel      51\n",
      "Resort Hotel    70\n",
      "Name: children, dtype: int64\n",
      "hotel\n",
      "City Hotel      8\n",
      "Resort Hotel    4\n",
      "Name: babies, dtype: int64\n"
     ]
    }
   ],
   "source": [
    "# Let's see the distribution of old guests as it relates to customer age category.\n",
    "\n",
    "adults_rentention = df[df['is_repeated_guest'] == True].groupby('hotel')['adults'].sum()\n",
    "children_rentention = df[df['is_repeated_guest'] == True].groupby('hotel')['children'].sum()\n",
    "babies_rentention = df[df['is_repeated_guest'] == True].groupby('hotel')['babies'].sum()\n",
    "\n",
    "\n",
    "print(adults_rentention)\n",
    "\n",
    "print(children_rentention)\n",
    "\n",
    "print(babies_rentention)"
   ]
  },
  {
   "cell_type": "code",
   "execution_count": 183,
   "id": "4305be5b",
   "metadata": {},
   "outputs": [
    {
     "name": "stdout",
     "output_type": "stream",
     "text": [
      "country\n",
      "PRT    3250\n",
      "GBR     107\n",
      "dtype: int64\n",
      "country\n",
      "PRT    45336\n",
      "GBR    12022\n",
      "dtype: int64\n"
     ]
    }
   ],
   "source": [
    "# Does country play a factor in repeat booking?\n",
    "\n",
    "old_guest_countries = df[df['is_repeated_guest'] == True].groupby('country').size().nlargest(2)\n",
    "new_guest_countries = df[df['is_repeated_guest'] == False].groupby('country').size().nlargest(2)\n",
    "print(old_guest_countries)\n",
    "print(new_guest_countries)"
   ]
  },
  {
   "cell_type": "code",
   "execution_count": 184,
   "id": "46cc6e66",
   "metadata": {},
   "outputs": [
    {
     "name": "stdout",
     "output_type": "stream",
     "text": [
      "market_segment\n",
      "Direct           603\n",
      "Corporate        560\n",
      "Online TA        364\n",
      "Offline TA/TO    160\n",
      "Groups            69\n",
      "Complementary     18\n",
      "dtype: int64\n",
      "market_segment\n",
      "Corporate        913\n",
      "Online TA        232\n",
      "Offline TA/TO    219\n",
      "Complementary    212\n",
      "Groups           201\n",
      "Direct           191\n",
      "Aviation          64\n",
      "dtype: int64\n",
      "market_segment\n",
      "Online TA        17291\n",
      "Offline TA/TO     7267\n",
      "Groups            5763\n",
      "Direct            5754\n",
      "Corporate         1566\n",
      "Complementary      181\n",
      "dtype: int64\n",
      "market_segment\n",
      "Online TA        38515\n",
      "Offline TA/TO    16514\n",
      "Groups           13773\n",
      "Direct            5900\n",
      "Corporate         2072\n",
      "Complementary      323\n",
      "Aviation           173\n",
      "dtype: int64\n"
     ]
    }
   ],
   "source": [
    "# Comparing by market segments\n",
    "\n",
    "print(df[(df['hotel'] == 'Resort Hotel') & (df['is_repeated_guest'] ==True)].groupby('market_segment').size().sort_values(ascending=False))\n",
    "print(df[(df['hotel'] == 'City Hotel') & (df['is_repeated_guest'] ==True)].groupby('market_segment').size().sort_values(ascending=False))\n",
    "\n",
    "print(df[(df['hotel'] == 'Resort Hotel') & (df['is_repeated_guest'] ==False)].groupby('market_segment').size().sort_values(ascending=False))\n",
    "print(df[(df['hotel'] == 'City Hotel') & (df['is_repeated_guest'] ==False)].groupby('market_segment').size().sort_values(ascending=False))\n",
    "\n"
   ]
  },
  {
   "cell_type": "code",
   "execution_count": 185,
   "id": "e72a18d2",
   "metadata": {},
   "outputs": [
    {
     "name": "stdout",
     "output_type": "stream",
     "text": [
      "Resort Hotel with repeated guests:\n",
      "distribution_channel\n",
      "TA/TO        639\n",
      "Direct       571\n",
      "Corporate    564\n",
      "dtype: int64\n",
      "\n",
      "City Hotel with repeated guests:\n",
      "distribution_channel\n",
      "Corporate    1007\n",
      "TA/TO         659\n",
      "Direct        363\n",
      "GDS             3\n",
      "dtype: int64\n",
      "\n",
      "Resort Hotel with non-repeated guests:\n",
      "distribution_channel\n",
      "TA/TO        28161\n",
      "Direct        7134\n",
      "Corporate     2526\n",
      "Undefined        1\n",
      "dtype: int64\n",
      "\n",
      "City Hotel with non-repeated guests:\n",
      "distribution_channel\n",
      "TA/TO        68271\n",
      "Direct        6415\n",
      "Corporate     2394\n",
      "GDS            190\n",
      "dtype: int64\n"
     ]
    }
   ],
   "source": [
    "# Comparing by distribution channels for Resort Hotel with repeated guests\n",
    "resort_repeated_channels = df[(df['hotel'] == 'Resort Hotel') & (df['is_repeated_guest'] == True)].groupby('distribution_channel').size().sort_values(ascending=False)\n",
    "print(\"Resort Hotel with repeated guests:\")\n",
    "print(resort_repeated_channels)\n",
    "\n",
    "# Comparing by distribution channels for City Hotel with repeated guests\n",
    "city_repeated_channels = df[(df['hotel'] == 'City Hotel') & (df['is_repeated_guest'] == True)].groupby('distribution_channel').size().sort_values(ascending=False)\n",
    "print(\"\\nCity Hotel with repeated guests:\")\n",
    "print(city_repeated_channels)\n",
    "\n",
    "# Comparing by distribution channels for Resort Hotel with non-repeated guests\n",
    "resort_nonrepeated_channels = df[(df['hotel'] == 'Resort Hotel') & (df['is_repeated_guest'] == False)].groupby('distribution_channel').size().sort_values(ascending=False)\n",
    "print(\"\\nResort Hotel with non-repeated guests:\")\n",
    "print(resort_nonrepeated_channels)\n",
    "\n",
    "# Comparing by distribution channels for City Hotel with non-repeated guests\n",
    "city_nonrepeated_channels = df[(df['hotel'] == 'City Hotel') & (df['is_repeated_guest'] == False)].groupby('distribution_channel').size().sort_values(ascending=False)\n",
    "print(\"\\nCity Hotel with non-repeated guests:\")\n",
    "print(city_nonrepeated_channels)\n"
   ]
  },
  {
   "cell_type": "code",
   "execution_count": 232,
   "id": "384549a0",
   "metadata": {},
   "outputs": [
    {
     "name": "stdout",
     "output_type": "stream",
     "text": [
      "Resort Hotel repeated guests with previous cancellations: 231\n",
      "City Hotel repeated guests with previous cancellations: 1559\n",
      "Resort Hotel non-repeated guests with previous cancellations: 3804\n",
      "City Hotel non-repeated guests with previous cancellations: 4767\n"
     ]
    }
   ],
   "source": [
    "# Resort Hotel: repeated guests with previous cancellations\n",
    "resort_repeated_prevcancellations = df[(df['hotel'] == 'Resort Hotel') & (df['is_repeated_guest'] == True)]['previous_cancellations'].sum()\n",
    "print(\"Resort Hotel repeated guests with previous cancellations:\", resort_repeated_prevcancellations)\n",
    "\n",
    "# City Hotel: repeated guests with previous cancellations\n",
    "city_repeated_prevcancellations = df[(df['hotel'] == 'City Hotel') & (df['is_repeated_guest'] == True)]['previous_cancellations'].sum()\n",
    "print(\"City Hotel repeated guests with previous cancellations:\", city_repeated_prevcancellations)\n",
    "\n",
    "# Resort Hotel: non-repeated guests with previous cancellations\n",
    "resort_nonrepeated_prevcancellations = df[(df['hotel'] == 'Resort Hotel') & (df['is_repeated_guest'] == False)]['previous_cancellations'].sum()\n",
    "print(\"Resort Hotel non-repeated guests with previous cancellations:\", resort_nonrepeated_prevcancellations)\n",
    "\n",
    "# City Hotel: non-repeated guests with previous cancellations\n",
    "city_nonrepeated_prevcancellations = df[(df['hotel'] == 'City Hotel') & (df['is_repeated_guest'] == False)]['previous_cancellations'].sum()\n",
    "print(\"City Hotel non-repeated guests with previous cancellations:\", city_nonrepeated_prevcancellations)\n"
   ]
  },
  {
   "cell_type": "code",
   "execution_count": 233,
   "id": "a1bbec26",
   "metadata": {},
   "outputs": [
    {
     "name": "stdout",
     "output_type": "stream",
     "text": [
      "Previous Cancellation rate for repeated guests: 47.03%\n",
      "Previous Cancellation rate for non-repeated guests: 7.45%\n"
     ]
    }
   ],
   "source": [
    "total_cancellations_repeated = df[df['is_repeated_guest'] == True]['previous_cancellations'].sum()\n",
    "total_guests_repeated = len(df[df['is_repeated_guest'] == True])\n",
    "\n",
    "total_cancellations_non_repeated = df[df['is_repeated_guest'] == False]['previous_cancellations'].sum()\n",
    "total_guests_non_repeated = len(df[df['is_repeated_guest'] == False])\n",
    "\n",
    "cancellation_rate_repeated = total_cancellations_repeated / total_guests_repeated\n",
    "cancellation_rate_non_repeated = total_cancellations_non_repeated / total_guests_non_repeated\n",
    "\n",
    "print(f'Previous Cancellation rate for repeated guests: {cancellation_rate_repeated:.2%}')\n",
    "print(f'Previous Cancellation rate for non-repeated guests: {cancellation_rate_non_repeated:.2%}')\n"
   ]
  },
  {
   "cell_type": "code",
   "execution_count": 234,
   "id": "b18dd06d",
   "metadata": {},
   "outputs": [
    {
     "name": "stdout",
     "output_type": "stream",
     "text": [
      "Percentage of total booking changes for Old Resort Hotel guests: 51.39 %\n",
      "Percentage of total booking changes for Old City Hotel guests: 48.61 %\n",
      "Percentage of total booking changes for new Resort Hotel guests: 43.16 %\n",
      "Percentage of total booking changes for new City Hotel guests: 56.84 %\n"
     ]
    }
   ],
   "source": [
    "# The total booking changes for repeated guests\n",
    "total_booking_changes_repeat = df[df['is_repeated_guest'] == True]['booking_changes'].sum()\n",
    "\n",
    "# Resort Hotel: repeated guests' booking changes\n",
    "resort_repeated_booking_changes = df[(df['hotel'] == 'Resort Hotel') & (df['is_repeated_guest'] == True)]['booking_changes'].sum()\n",
    "percentage_resort_repeated_booking_changes = (resort_repeated_booking_changes / total_booking_changes_repeat) * 100\n",
    "print(\"Percentage of total booking changes for Old Resort Hotel guests:\", round(percentage_resort_repeated_booking_changes, 2), \"%\")\n",
    "\n",
    "# City Hotel: repeated guests' booking changes\n",
    "city_repeated_booking_changes = df[(df['hotel'] == 'City Hotel') & (df['is_repeated_guest'] == True)]['booking_changes'].sum()\n",
    "percentage_city_repeated_booking_changes = (city_repeated_booking_changes / total_booking_changes_repeat) * 100\n",
    "print(\"Percentage of total booking changes for Old City Hotel guests:\", round(percentage_city_repeated_booking_changes, 2), \"%\")\n",
    "\n",
    "# The total booking changes for new guests\n",
    "total_booking_changes_nonrepeat = df[df['is_repeated_guest'] == False]['booking_changes'].sum()\n",
    "\n",
    "# Resort Hotel: new guests' booking changes\n",
    "resort_nonrepeated_booking_changes = df[(df['hotel'] == 'Resort Hotel') & (df['is_repeated_guest'] == False)]['booking_changes'].sum()\n",
    "percentage_resort_nonrepeated_booking_changes = (resort_nonrepeated_booking_changes / total_booking_changes_nonrepeat) * 100\n",
    "print(\"Percentage of total booking changes for new Resort Hotel guests:\", round(percentage_resort_nonrepeated_booking_changes, 2), \"%\")\n",
    "\n",
    "# City Hotel: new guests' booking changes\n",
    "city_nonrepeated_booking_changes = df[(df['hotel'] == 'City Hotel') & (df['is_repeated_guest'] == False)]['booking_changes'].sum()\n",
    "percentage_city_nonrepeated_booking_changes = (city_nonrepeated_booking_changes / total_booking_changes_nonrepeat) * 100\n",
    "print(\"Percentage of total booking changes for new City Hotel guests:\", round(percentage_city_nonrepeated_booking_changes, 2), \"%\")\n"
   ]
  },
  {
   "cell_type": "code",
   "execution_count": 231,
   "id": "9f944501",
   "metadata": {},
   "outputs": [
    {
     "name": "stdout",
     "output_type": "stream",
     "text": [
      "Booking Changes rate for repeated guests: 26.48%\n",
      "Booking Changes rate for non-repeated guests: 21.97%\n"
     ]
    }
   ],
   "source": [
    "total_changes_repeated = df[df['is_repeated_guest'] == True]['booking_changes'].sum()\n",
    "total_guests_repeated_changes = len(df[df['is_repeated_guest'] == True])\n",
    "\n",
    "total_changes_non_repeated = df[df['is_repeated_guest'] == False]['booking_changes'].sum()\n",
    "total_guests_non_repeated_changes = len(df[df['is_repeated_guest'] == False])\n",
    "\n",
    "changes_rate_repeated = total_changes_repeated / total_guests_repeated_changes\n",
    "changes_rate_non_repeated = total_changes_non_repeated / total_guests_non_repeated_changes\n",
    "\n",
    "print(f'Booking Changes rate for repeated guests: {changes_rate_repeated:.2%}')\n",
    "print(f'Booking Changes rate for non-repeated guests: {changes_rate_non_repeated:.2%}')\n"
   ]
  },
  {
   "cell_type": "code",
   "execution_count": 226,
   "id": "b064702e",
   "metadata": {},
   "outputs": [
    {
     "name": "stdout",
     "output_type": "stream",
     "text": [
      "Repeated Guests Grouped by Customer Type and Hotel:\n",
      "customer_type    hotel       \n",
      "Transient        City Hotel      1618\n",
      "                 Resort Hotel    1452\n",
      "Transient-Party  City Hotel       352\n",
      "                 Resort Hotel     190\n",
      "Group            Resort Hotel     113\n",
      "                 City Hotel        48\n",
      "Contract         Resort Hotel      19\n",
      "                 City Hotel        14\n",
      "dtype: int64\n",
      "\n",
      "Non-Repeated Guests Grouped by Customer Type and Hotel:\n",
      "customer_type    hotel       \n",
      "Transient        City Hotel      57764\n",
      "                 Resort Hotel    28340\n",
      "Transient-Party  City Hotel      16976\n",
      "                 Resort Hotel     7560\n",
      "Contract         City Hotel       2286\n",
      "                 Resort Hotel     1757\n",
      "Group            City Hotel        244\n",
      "                 Resort Hotel      165\n",
      "dtype: int64\n"
     ]
    }
   ],
   "source": [
    "# Repeated guests and customer type per hotel\n",
    "repeated_guests_customer_type = df[df['is_repeated_guest'] == True].groupby(['customer_type', 'hotel']).size().sort_values(ascending=False)\n",
    "print(\"Repeated Guests Grouped by Customer Type and Hotel:\")\n",
    "print(repeated_guests_customer_type)\n",
    "\n",
    "# Non-repeated guests and customer per hotel\n",
    "nonrepeated_guests_customer_type = df[df['is_repeated_guest'] == False].groupby(['customer_type', 'hotel']).size().sort_values(ascending=False)\n",
    "print(\"\\nNon-Repeated Guests Grouped by Customer Type and Hotel:\")\n",
    "print(nonrepeated_guests_customer_type)\n"
   ]
  },
  {
   "cell_type": "code",
   "execution_count": 225,
   "id": "82cdc6e4",
   "metadata": {},
   "outputs": [
    {
     "name": "stdout",
     "output_type": "stream",
     "text": [
      "Repeated Guests Grouped by Deposit Type:\n",
      "deposit_type\n",
      "No Deposit    3738\n",
      "Non Refund      64\n",
      "Refundable       4\n",
      "dtype: int64\n",
      "\n",
      "Non-Repeated Guests Grouped by Deposit Type:\n",
      "deposit_type\n",
      "No Deposit    100425\n",
      "Non Refund     14509\n",
      "Refundable       158\n",
      "dtype: int64\n"
     ]
    }
   ],
   "source": [
    "\n",
    "# Repeated guests and deposit type\n",
    "repeated_guests_deposit = df[df['is_repeated_guest'] == True].groupby('deposit_type').size().sort_values(ascending=False)\n",
    "print(\"Repeated Guests Grouped by Deposit Type:\")\n",
    "print(repeated_guests_deposit)\n",
    "\n",
    "# Non-repeated guests and deposit type\n",
    "nonrepeated_guests_deposit = df[df['is_repeated_guest'] == False].groupby('deposit_type').size().sort_values(ascending=False)\n",
    "print(\"\\nNon-Repeated Guests Grouped by Deposit Type:\")\n",
    "print(nonrepeated_guests_deposit)\n"
   ]
  },
  {
   "cell_type": "markdown",
   "id": "fb8fd397",
   "metadata": {},
   "source": [
    "### FINDINGS C: GUESTS RENTENTION PATTERNS"
   ]
  },
  {
   "cell_type": "markdown",
   "id": "2655cb4a",
   "metadata": {},
   "source": [
    "- Top arrival seasons for old guests in City hotel is in Fall , the spring season records the least. Top arrival seasons for new guests in City hotel is in Summer and late Spring , winter season records the least.\n",
    "  Top arrival seasons for old guests in Resort hotel is in Late winter and Early Spring , early fall records the least while new guests arrive mostly by summer and least by winter.\n",
    " \n",
    "- The lead time for old and new guests in both hotels is significantly differing. \n",
    "\n",
    "- The vast majority in each of these age categories are new guests.\n",
    "\n",
    "- Both old and new guests come mainly from Portugal and the United Kingdom.\n",
    "\n",
    "- For old guests in Resort hotel, Directis top market segment and Complimentary is least. In City hotel, old guests belong mostly to the Corporate market segment and aviation the least.\n",
    "  For new guests in Resort hotel, Online TA tops the market segment and Complementary is least. In City hotel, Online TA/TO tops the segment and Avation is least.\n",
    "  \n",
    "- Old guests in Resort hotel mainly booked through TA/TO, while those in City hotel booked via Corporate.\n",
    "  New guests in Resort hotel and City Hotel mainly booked via TA/TO. \n",
    "\n",
    "- Old guests have significantly higher cancelation rates than new guests.\n",
    "  \n",
    "- There are no significant differences between the booking changes for each categories in both hotels.\n",
    "\n",
    "- Both Old and new guests are mostly Transient customers, in both hotels.\n",
    "\n",
    "- The majority of both Old and new guests had no deposits\n"
   ]
  },
  {
   "cell_type": "code",
   "execution_count": 222,
   "id": "f31ec121",
   "metadata": {},
   "outputs": [],
   "source": [
    "df.to_csv('hotelnew_data.csv')"
   ]
  },
  {
   "cell_type": "markdown",
   "id": "01d66a3a",
   "metadata": {},
   "source": [
    "## Conclusion & Recommendations\n",
    "\n",
    "### Recommended strategies to reduce booking cancellations➖\n",
    "\n",
    "Given that long lead and wait times likely play a role in reason for cancellations, I recommend that the following measures be employed:- \n",
    "\n",
    "- The IT and Systems Team should **streamline** the online booking process like infusing real-time availability and automated confirmation to minimize waiting times for guests. \n",
    "- Communications Team should regularly engage with guests through personalized welcome messages, strategic newsletters or updates about special offers and events, to keep guests motivated about their upcoming stay and well informed about hotel amenities, services and experience, as well as local attractions.\n",
    "- Optimize the Travel-Agencies/Tour-Operators channels, through the provision of targeted incentives, deals as well as clear cancellation policies. A feedback system or Surveys should be introduced to better understand the reasons behind cancellations.\n",
    "- Encourage guests to book by offering exclusive deals, promotions and packages during the Summer and Spring seasons.\n",
    "- Dynamic pricing strategies that adjust rates based on the demand and other factors should be explored, as offering competitive pricing during peak cancellation periods may attract more bookings.\n",
    "\n",
    "### Recommended Strategies to increase length of stay\n",
    "\n",
    "I’ve observed some factors that may be responsible for length of stay, based on this, I recommend the following:- \n",
    "\n",
    "- Capitalizing on stays peak period-summer and December for City Hotel and Summer, Fall and Spring for Resort hotel, offer seasonal packages and promotions to attract guests during these peak periods. Focus marketing efforts on attracting guests from Senegal, Azerbaijan, Togo, North Macedonia, and Armenia for Resort hotel and Faroe Islands, Senegal, Angola, Cape Verde, and Guinea-Bissau for City Hotel, given that they tend to stay the longest; through tailored marketing campaigns, partnerships, or promotions targeting these specific nationalities to increase their engagement.\n",
    "- Tailor marketing strategies for the top market segments—Offline TA/TO, Online TA, and Group segments for Resort Hotel, and Aviation and Online TA segments for City Hotel, introduce extended stay packages and benefits, loyalty programs or exclusive perks for guests in these segments to encourage longer bookings.\n",
    "- Since guests booking through TA/TO channels for Resort Hotel and Direct and TA/TO for City hotel tend to stay longer, we should focus on increasing visibility, special deals, discounts and promotions through these channels. We should provide incentives for bookings through these channels. And as for channels with lower stays, like Corporate & GDS distribution, explore strategies to incentivize longer stays.\n",
    "- Engage with Contract & Transient customers by offering personalized services or exclusive amenities for their longer stays. For Group customers, consider creating packages that encourage them to extend their stays with group-friendly activities and benefits, emphasizing the City & Resort Hotel's amenities and attractions for a longer and more enjoyable stay.\n",
    "- Promote Triple (D) and Single (E) rooms for both Hotels, as ideal choices for guests seeking longer stays, emphasizing their comfort and features. Also consider special rates or packages for these room type. Rooms with shorter stays, Superior Room (B) and Deluxe Room (L) for the Resort Hotel as well as the Presidential Suite (P) for the City Hotel should be paired with exclusive experiences or perks.\n",
    "- Collect feedback from guests who both stayed for shorter or longer durations and use it to identify areas for improvement. Address concerns and make enhancements to the guest experience, amenities, or services to sustain and encourage longer stays.\n",
    "- Collaborate with local businesses or attractions to create attractive packages that encourage longer stays. Offer bundled services, such as spa treatments, guided tours, or dining experiences, to entice guests to extend their visit.\n",
    "- Use data analytics to personalize marketing and promotional efforts. Create targeted offers based on guests' booking history, preferences, and behaviors. Send personalized promotions to past guests who stayed for shorter durations to entice them for longer stays.\n",
    "\n",
    "### Recommended Strategies to increase Repeat bookings➖\n",
    "\n",
    "Having uncovered repeat bookings pattern, I recommend the following:— \n",
    "\n",
    "- Implement targeted loyalty programs to encourage repeat bookings.\n",
    "\n",
    "- Launch initiatives targeting the **Transient** customers, the Direct, Corporate and online TA/TO market segments, which comprises a significant portion of both old and new guests.\n",
    "\n",
    "- Leverage insights on booking channels such as **TA/TO and Corporate** to optimize marketing strategies for both old and new guests.\n",
    "- Further explore opportunities to attract guests from other regions, complementing the existing strong representation from Portugal and the United Kingdom.\n",
    "- Focus on providing an exceptional guest experience to build loyalty. Satisfied guests are less likely to cancel reservations. Ensure that services, amenities, and facilities meet or exceed guest expectations."
   ]
  }
 ],
 "metadata": {
  "kernelspec": {
   "display_name": "Python 3 (ipykernel)",
   "language": "python",
   "name": "python3"
  },
  "language_info": {
   "codemirror_mode": {
    "name": "ipython",
    "version": 3
   },
   "file_extension": ".py",
   "mimetype": "text/x-python",
   "name": "python",
   "nbconvert_exporter": "python",
   "pygments_lexer": "ipython3",
   "version": "3.11.4"
  }
 },
 "nbformat": 4,
 "nbformat_minor": 5
}
